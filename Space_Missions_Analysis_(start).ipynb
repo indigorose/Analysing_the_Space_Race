{
  "cells": [
    {
      "cell_type": "markdown",
      "metadata": {
        "id": "view-in-github",
        "colab_type": "text"
      },
      "source": [
        "<a href=\"https://colab.research.google.com/github/indigorose/Analysing_the_Space_Race/blob/main/Space_Missions_Analysis_(start).ipynb\" target=\"_parent\"><img src=\"https://colab.research.google.com/assets/colab-badge.svg\" alt=\"Open In Colab\"/></a>"
      ]
    },
    {
      "cell_type": "markdown",
      "metadata": {
        "id": "ka_FkvXBiABo"
      },
      "source": [
        "# Introduction"
      ]
    },
    {
      "cell_type": "markdown",
      "metadata": {
        "id": "AWaMmfxXa-p0",
        "papermill": {
          "duration": 0.035434,
          "end_time": "2020-10-20T21:34:01.886225",
          "exception": false,
          "start_time": "2020-10-20T21:34:01.850791",
          "status": "completed"
        },
        "tags": []
      },
      "source": [
        "<center><img src=\"https://i.imgur.com/9hLRsjZ.jpg\" height=400></center>\n",
        "\n",
        "This dataset was scraped from [nextspaceflight.com](https://nextspaceflight.com/launches/past/?page=1) and includes all the space missions since the beginning of Space Race between the USA and the Soviet Union in 1957!"
      ]
    },
    {
      "cell_type": "markdown",
      "metadata": {
        "id": "ufzKRKS3bV0r"
      },
      "source": [
        "### Install Package with Country Codes"
      ]
    },
    {
      "cell_type": "code",
      "execution_count": 1,
      "metadata": {
        "colab": {
          "base_uri": "https://localhost:8080/"
        },
        "id": "0HxV9o6dbRUE",
        "outputId": "c01ccf4a-980d-45b2-a31d-6bdc45334daa"
      },
      "outputs": [
        {
          "output_type": "stream",
          "name": "stdout",
          "text": [
            "Looking in indexes: https://pypi.org/simple, https://us-python.pkg.dev/colab-wheels/public/simple/\n",
            "Collecting iso3166\n",
            "  Downloading iso3166-2.1.1-py3-none-any.whl (9.8 kB)\n",
            "Installing collected packages: iso3166\n",
            "Successfully installed iso3166-2.1.1\n"
          ]
        }
      ],
      "source": [
        "%pip install iso3166"
      ]
    },
    {
      "cell_type": "markdown",
      "metadata": {
        "id": "sghkhFoLbof8"
      },
      "source": [
        "### Upgrade Plotly\n",
        "\n",
        "Run the cell below if you are working with Google Colab."
      ]
    },
    {
      "cell_type": "code",
      "execution_count": 2,
      "metadata": {
        "colab": {
          "base_uri": "https://localhost:8080/"
        },
        "id": "gQ61wy9gbmxd",
        "outputId": "e706b606-6bd8-4c19-a082-3f173f637be6"
      },
      "outputs": [
        {
          "output_type": "stream",
          "name": "stdout",
          "text": [
            "Looking in indexes: https://pypi.org/simple, https://us-python.pkg.dev/colab-wheels/public/simple/\n",
            "Requirement already satisfied: plotly in /usr/local/lib/python3.7/dist-packages (5.5.0)\n",
            "Collecting plotly\n",
            "  Downloading plotly-5.11.0-py2.py3-none-any.whl (15.3 MB)\n",
            "\u001b[K     |████████████████████████████████| 15.3 MB 32.2 MB/s \n",
            "\u001b[?25hRequirement already satisfied: tenacity>=6.2.0 in /usr/local/lib/python3.7/dist-packages (from plotly) (8.1.0)\n",
            "Installing collected packages: plotly\n",
            "  Attempting uninstall: plotly\n",
            "    Found existing installation: plotly 5.5.0\n",
            "    Uninstalling plotly-5.5.0:\n",
            "      Successfully uninstalled plotly-5.5.0\n",
            "Successfully installed plotly-5.11.0\n"
          ]
        }
      ],
      "source": [
        "%pip install --upgrade plotly"
      ]
    },
    {
      "cell_type": "markdown",
      "metadata": {
        "id": "ErFDBihUi1jN"
      },
      "source": [
        "### Import Statements"
      ]
    },
    {
      "cell_type": "code",
      "execution_count": 3,
      "metadata": {
        "_cell_guid": "b1076dfc-b9ad-4769-8c92-a6c4dae69d19",
        "_kg_hide-input": true,
        "_kg_hide-output": true,
        "_uuid": "8f2839f25d086af736a60e9eeb907d3b93b6e0e5",
        "execution": {
          "iopub.execute_input": "2020-10-20T21:34:02.101551Z",
          "iopub.status.busy": "2020-10-20T21:34:02.101085Z",
          "iopub.status.idle": "2020-10-20T21:34:03.726868Z",
          "shell.execute_reply": "2020-10-20T21:34:03.725783Z"
        },
        "id": "xdolY0-Sa-p1",
        "papermill": {
          "duration": 1.665326,
          "end_time": "2020-10-20T21:34:03.726995",
          "exception": false,
          "start_time": "2020-10-20T21:34:02.061669",
          "status": "completed"
        },
        "tags": []
      },
      "outputs": [],
      "source": [
        "import numpy as np\n",
        "import pandas as pd\n",
        "import plotly.express as px\n",
        "import matplotlib.pyplot as plt\n",
        "import seaborn as sns\n",
        "\n",
        "# These might be helpful:\n",
        "from iso3166 import countries\n",
        "from datetime import datetime, timedelta"
      ]
    },
    {
      "cell_type": "markdown",
      "metadata": {
        "id": "lovGPRgKxIgo"
      },
      "source": [
        "### Notebook Presentation"
      ]
    },
    {
      "cell_type": "code",
      "execution_count": 4,
      "metadata": {
        "id": "DHEULCOjxIIm"
      },
      "outputs": [],
      "source": [
        "pd.options.display.float_format = '{:,.2f}'.format"
      ]
    },
    {
      "cell_type": "markdown",
      "metadata": {
        "id": "yaT3QbjEa-p4",
        "papermill": {
          "duration": 0.034606,
          "end_time": "2020-10-20T21:34:03.798396",
          "exception": false,
          "start_time": "2020-10-20T21:34:03.763790",
          "status": "completed"
        },
        "tags": []
      },
      "source": [
        "### Load the Data"
      ]
    },
    {
      "cell_type": "code",
      "execution_count": 5,
      "metadata": {
        "_cell_guid": "79c7e3d0-c299-4dcb-8224-4455121ee9b0",
        "_kg_hide-input": true,
        "_uuid": "d629ff2d2480ee46fbb7e2d37f6b5fab8052498a",
        "execution": {
          "iopub.execute_input": "2020-10-20T21:34:03.874195Z",
          "iopub.status.busy": "2020-10-20T21:34:03.873775Z",
          "iopub.status.idle": "2020-10-20T21:34:03.921919Z",
          "shell.execute_reply": "2020-10-20T21:34:03.921418Z"
        },
        "id": "0lDOu8aka-p4",
        "papermill": {
          "duration": 0.08876,
          "end_time": "2020-10-20T21:34:03.922028",
          "exception": false,
          "start_time": "2020-10-20T21:34:03.833268",
          "status": "completed"
        },
        "tags": []
      },
      "outputs": [],
      "source": [
        "df_data = pd.read_csv('mission_launches.csv')"
      ]
    },
    {
      "cell_type": "markdown",
      "metadata": {
        "id": "jAnMiVcVjuKB"
      },
      "source": [
        "# Preliminary Data Exploration\n",
        "\n",
        "* What is the shape of `df_data`? \n",
        "* How many rows and columns does it have?\n",
        "* What are the column names?\n",
        "* Are there any NaN values or duplicates?"
      ]
    },
    {
      "cell_type": "code",
      "execution_count": 7,
      "metadata": {
        "id": "0tIuYcYNlPFQ",
        "colab": {
          "base_uri": "https://localhost:8080/"
        },
        "outputId": "cca6cf3e-83da-4c6f-fdfd-79904f48b774"
      },
      "outputs": [
        {
          "output_type": "stream",
          "name": "stdout",
          "text": [
            "The shape of the data is (4324, 9)\n"
          ]
        }
      ],
      "source": [
        "# Use .shape() to show the rows and columns of the data file\n",
        "print(f'The shape of the data is {df_data.shape}')"
      ]
    },
    {
      "cell_type": "code",
      "source": [
        "# Following on the the shape call above, we can see that there are 4324 rows and 9 columns. \n",
        "# Let's get details of those columns.\n",
        "print(f'The columns are as follows: {df_data.columns}')"
      ],
      "metadata": {
        "colab": {
          "base_uri": "https://localhost:8080/"
        },
        "id": "J0-2bwkCRD7W",
        "outputId": "80df53fe-1416-4245-e67a-159dac30bf34"
      },
      "execution_count": 8,
      "outputs": [
        {
          "output_type": "stream",
          "name": "stdout",
          "text": [
            "The columns are as follows: Index(['Unnamed: 0', 'Unnamed: 0.1', 'Organisation', 'Location', 'Date',\n",
            "       'Detail', 'Rocket_Status', 'Price', 'Mission_Status'],\n",
            "      dtype='object')\n"
          ]
        }
      ]
    },
    {
      "cell_type": "code",
      "execution_count": 12,
      "metadata": {
        "id": "0dw2hd9UlPmP",
        "colab": {
          "base_uri": "https://localhost:8080/"
        },
        "outputId": "bc998315-3d26-4e58-a7e3-ae529c98ec36"
      },
      "outputs": [
        {
          "output_type": "stream",
          "name": "stdout",
          "text": [
            "Are there any duplicates? - False\n"
          ]
        }
      ],
      "source": [
        "# To see if there are any duplicates or NaN values, we run the following checks. \n",
        "print(f'Are there any duplicates? - {df_data.duplicated().values.any()}')\n"
      ]
    },
    {
      "cell_type": "markdown",
      "metadata": {
        "id": "KUN30y6ja-p9",
        "papermill": {
          "duration": 0.05406,
          "end_time": "2020-10-20T21:34:04.149973",
          "exception": false,
          "start_time": "2020-10-20T21:34:04.095913",
          "status": "completed"
        },
        "tags": []
      },
      "source": [
        "## Data Cleaning - Check for Missing Values and Duplicates\n",
        "\n",
        "Consider removing columns containing junk data. "
      ]
    },
    {
      "cell_type": "code",
      "execution_count": 15,
      "metadata": {
        "id": "wWQvnJb0k2Ig",
        "colab": {
          "base_uri": "https://localhost:8080/",
          "height": 641
        },
        "outputId": "a976a4bf-8b4f-4f60-a88b-67ab634edc2e"
      },
      "outputs": [
        {
          "output_type": "execute_result",
          "data": {
            "text/plain": [
              "     Organisation                                           Location  \\\n",
              "0          SpaceX         LC-39A, Kennedy Space Center, Florida, USA   \n",
              "1            CASC  Site 9401 (SLS-2), Jiuquan Satellite Launch Ce...   \n",
              "2          SpaceX                      Pad A, Boca Chica, Texas, USA   \n",
              "3       Roscosmos       Site 200/39, Baikonur Cosmodrome, Kazakhstan   \n",
              "4             ULA           SLC-41, Cape Canaveral AFS, Florida, USA   \n",
              "...           ...                                                ...   \n",
              "4319      US Navy           LC-18A, Cape Canaveral AFS, Florida, USA   \n",
              "4320         AMBA           LC-26A, Cape Canaveral AFS, Florida, USA   \n",
              "4321      US Navy           LC-18A, Cape Canaveral AFS, Florida, USA   \n",
              "4322    RVSN USSR          Site 1/5, Baikonur Cosmodrome, Kazakhstan   \n",
              "4323    RVSN USSR          Site 1/5, Baikonur Cosmodrome, Kazakhstan   \n",
              "\n",
              "                            Date  \\\n",
              "0     Fri Aug 07, 2020 05:12 UTC   \n",
              "1     Thu Aug 06, 2020 04:01 UTC   \n",
              "2     Tue Aug 04, 2020 23:57 UTC   \n",
              "3     Thu Jul 30, 2020 21:25 UTC   \n",
              "4     Thu Jul 30, 2020 11:50 UTC   \n",
              "...                          ...   \n",
              "4319  Wed Feb 05, 1958 07:33 UTC   \n",
              "4320  Sat Feb 01, 1958 03:48 UTC   \n",
              "4321  Fri Dec 06, 1957 16:44 UTC   \n",
              "4322  Sun Nov 03, 1957 02:30 UTC   \n",
              "4323  Fri Oct 04, 1957 19:28 UTC   \n",
              "\n",
              "                                            Detail  Rocket_Status  Price  \\\n",
              "0     Falcon 9 Block 5 | Starlink V1 L9 & BlackSky   StatusActive   50.0   \n",
              "1              Long March 2D | Gaofen-9 04 & Q-SAT   StatusActive  29.75   \n",
              "2               Starship Prototype | 150 Meter Hop   StatusActive    NaN   \n",
              "3     Proton-M/Briz-M | Ekspress-80 & Ekspress-103   StatusActive   65.0   \n",
              "4                       Atlas V 541 | Perseverance   StatusActive  145.0   \n",
              "...                                            ...            ...    ...   \n",
              "4319                     Vanguard | Vanguard TV3BU  StatusRetired    NaN   \n",
              "4320                           Juno I | Explorer 1  StatusRetired    NaN   \n",
              "4321                       Vanguard | Vanguard TV3  StatusRetired    NaN   \n",
              "4322                    Sputnik 8K71PS | Sputnik-2  StatusRetired    NaN   \n",
              "4323                    Sputnik 8K71PS | Sputnik-1  StatusRetired    NaN   \n",
              "\n",
              "     Mission_Status  \n",
              "0           Success  \n",
              "1           Success  \n",
              "2           Success  \n",
              "3           Success  \n",
              "4           Success  \n",
              "...             ...  \n",
              "4319        Failure  \n",
              "4320        Success  \n",
              "4321        Failure  \n",
              "4322        Success  \n",
              "4323        Success  \n",
              "\n",
              "[4324 rows x 7 columns]"
            ],
            "text/html": [
              "\n",
              "  <div id=\"df-2addd519-aab5-42d4-b413-f993ddea549b\">\n",
              "    <div class=\"colab-df-container\">\n",
              "      <div>\n",
              "<style scoped>\n",
              "    .dataframe tbody tr th:only-of-type {\n",
              "        vertical-align: middle;\n",
              "    }\n",
              "\n",
              "    .dataframe tbody tr th {\n",
              "        vertical-align: top;\n",
              "    }\n",
              "\n",
              "    .dataframe thead th {\n",
              "        text-align: right;\n",
              "    }\n",
              "</style>\n",
              "<table border=\"1\" class=\"dataframe\">\n",
              "  <thead>\n",
              "    <tr style=\"text-align: right;\">\n",
              "      <th></th>\n",
              "      <th>Organisation</th>\n",
              "      <th>Location</th>\n",
              "      <th>Date</th>\n",
              "      <th>Detail</th>\n",
              "      <th>Rocket_Status</th>\n",
              "      <th>Price</th>\n",
              "      <th>Mission_Status</th>\n",
              "    </tr>\n",
              "  </thead>\n",
              "  <tbody>\n",
              "    <tr>\n",
              "      <th>0</th>\n",
              "      <td>SpaceX</td>\n",
              "      <td>LC-39A, Kennedy Space Center, Florida, USA</td>\n",
              "      <td>Fri Aug 07, 2020 05:12 UTC</td>\n",
              "      <td>Falcon 9 Block 5 | Starlink V1 L9 &amp; BlackSky</td>\n",
              "      <td>StatusActive</td>\n",
              "      <td>50.0</td>\n",
              "      <td>Success</td>\n",
              "    </tr>\n",
              "    <tr>\n",
              "      <th>1</th>\n",
              "      <td>CASC</td>\n",
              "      <td>Site 9401 (SLS-2), Jiuquan Satellite Launch Ce...</td>\n",
              "      <td>Thu Aug 06, 2020 04:01 UTC</td>\n",
              "      <td>Long March 2D | Gaofen-9 04 &amp; Q-SAT</td>\n",
              "      <td>StatusActive</td>\n",
              "      <td>29.75</td>\n",
              "      <td>Success</td>\n",
              "    </tr>\n",
              "    <tr>\n",
              "      <th>2</th>\n",
              "      <td>SpaceX</td>\n",
              "      <td>Pad A, Boca Chica, Texas, USA</td>\n",
              "      <td>Tue Aug 04, 2020 23:57 UTC</td>\n",
              "      <td>Starship Prototype | 150 Meter Hop</td>\n",
              "      <td>StatusActive</td>\n",
              "      <td>NaN</td>\n",
              "      <td>Success</td>\n",
              "    </tr>\n",
              "    <tr>\n",
              "      <th>3</th>\n",
              "      <td>Roscosmos</td>\n",
              "      <td>Site 200/39, Baikonur Cosmodrome, Kazakhstan</td>\n",
              "      <td>Thu Jul 30, 2020 21:25 UTC</td>\n",
              "      <td>Proton-M/Briz-M | Ekspress-80 &amp; Ekspress-103</td>\n",
              "      <td>StatusActive</td>\n",
              "      <td>65.0</td>\n",
              "      <td>Success</td>\n",
              "    </tr>\n",
              "    <tr>\n",
              "      <th>4</th>\n",
              "      <td>ULA</td>\n",
              "      <td>SLC-41, Cape Canaveral AFS, Florida, USA</td>\n",
              "      <td>Thu Jul 30, 2020 11:50 UTC</td>\n",
              "      <td>Atlas V 541 | Perseverance</td>\n",
              "      <td>StatusActive</td>\n",
              "      <td>145.0</td>\n",
              "      <td>Success</td>\n",
              "    </tr>\n",
              "    <tr>\n",
              "      <th>...</th>\n",
              "      <td>...</td>\n",
              "      <td>...</td>\n",
              "      <td>...</td>\n",
              "      <td>...</td>\n",
              "      <td>...</td>\n",
              "      <td>...</td>\n",
              "      <td>...</td>\n",
              "    </tr>\n",
              "    <tr>\n",
              "      <th>4319</th>\n",
              "      <td>US Navy</td>\n",
              "      <td>LC-18A, Cape Canaveral AFS, Florida, USA</td>\n",
              "      <td>Wed Feb 05, 1958 07:33 UTC</td>\n",
              "      <td>Vanguard | Vanguard TV3BU</td>\n",
              "      <td>StatusRetired</td>\n",
              "      <td>NaN</td>\n",
              "      <td>Failure</td>\n",
              "    </tr>\n",
              "    <tr>\n",
              "      <th>4320</th>\n",
              "      <td>AMBA</td>\n",
              "      <td>LC-26A, Cape Canaveral AFS, Florida, USA</td>\n",
              "      <td>Sat Feb 01, 1958 03:48 UTC</td>\n",
              "      <td>Juno I | Explorer 1</td>\n",
              "      <td>StatusRetired</td>\n",
              "      <td>NaN</td>\n",
              "      <td>Success</td>\n",
              "    </tr>\n",
              "    <tr>\n",
              "      <th>4321</th>\n",
              "      <td>US Navy</td>\n",
              "      <td>LC-18A, Cape Canaveral AFS, Florida, USA</td>\n",
              "      <td>Fri Dec 06, 1957 16:44 UTC</td>\n",
              "      <td>Vanguard | Vanguard TV3</td>\n",
              "      <td>StatusRetired</td>\n",
              "      <td>NaN</td>\n",
              "      <td>Failure</td>\n",
              "    </tr>\n",
              "    <tr>\n",
              "      <th>4322</th>\n",
              "      <td>RVSN USSR</td>\n",
              "      <td>Site 1/5, Baikonur Cosmodrome, Kazakhstan</td>\n",
              "      <td>Sun Nov 03, 1957 02:30 UTC</td>\n",
              "      <td>Sputnik 8K71PS | Sputnik-2</td>\n",
              "      <td>StatusRetired</td>\n",
              "      <td>NaN</td>\n",
              "      <td>Success</td>\n",
              "    </tr>\n",
              "    <tr>\n",
              "      <th>4323</th>\n",
              "      <td>RVSN USSR</td>\n",
              "      <td>Site 1/5, Baikonur Cosmodrome, Kazakhstan</td>\n",
              "      <td>Fri Oct 04, 1957 19:28 UTC</td>\n",
              "      <td>Sputnik 8K71PS | Sputnik-1</td>\n",
              "      <td>StatusRetired</td>\n",
              "      <td>NaN</td>\n",
              "      <td>Success</td>\n",
              "    </tr>\n",
              "  </tbody>\n",
              "</table>\n",
              "<p>4324 rows × 7 columns</p>\n",
              "</div>\n",
              "      <button class=\"colab-df-convert\" onclick=\"convertToInteractive('df-2addd519-aab5-42d4-b413-f993ddea549b')\"\n",
              "              title=\"Convert this dataframe to an interactive table.\"\n",
              "              style=\"display:none;\">\n",
              "        \n",
              "  <svg xmlns=\"http://www.w3.org/2000/svg\" height=\"24px\"viewBox=\"0 0 24 24\"\n",
              "       width=\"24px\">\n",
              "    <path d=\"M0 0h24v24H0V0z\" fill=\"none\"/>\n",
              "    <path d=\"M18.56 5.44l.94 2.06.94-2.06 2.06-.94-2.06-.94-.94-2.06-.94 2.06-2.06.94zm-11 1L8.5 8.5l.94-2.06 2.06-.94-2.06-.94L8.5 2.5l-.94 2.06-2.06.94zm10 10l.94 2.06.94-2.06 2.06-.94-2.06-.94-.94-2.06-.94 2.06-2.06.94z\"/><path d=\"M17.41 7.96l-1.37-1.37c-.4-.4-.92-.59-1.43-.59-.52 0-1.04.2-1.43.59L10.3 9.45l-7.72 7.72c-.78.78-.78 2.05 0 2.83L4 21.41c.39.39.9.59 1.41.59.51 0 1.02-.2 1.41-.59l7.78-7.78 2.81-2.81c.8-.78.8-2.07 0-2.86zM5.41 20L4 18.59l7.72-7.72 1.47 1.35L5.41 20z\"/>\n",
              "  </svg>\n",
              "      </button>\n",
              "      \n",
              "  <style>\n",
              "    .colab-df-container {\n",
              "      display:flex;\n",
              "      flex-wrap:wrap;\n",
              "      gap: 12px;\n",
              "    }\n",
              "\n",
              "    .colab-df-convert {\n",
              "      background-color: #E8F0FE;\n",
              "      border: none;\n",
              "      border-radius: 50%;\n",
              "      cursor: pointer;\n",
              "      display: none;\n",
              "      fill: #1967D2;\n",
              "      height: 32px;\n",
              "      padding: 0 0 0 0;\n",
              "      width: 32px;\n",
              "    }\n",
              "\n",
              "    .colab-df-convert:hover {\n",
              "      background-color: #E2EBFA;\n",
              "      box-shadow: 0px 1px 2px rgba(60, 64, 67, 0.3), 0px 1px 3px 1px rgba(60, 64, 67, 0.15);\n",
              "      fill: #174EA6;\n",
              "    }\n",
              "\n",
              "    [theme=dark] .colab-df-convert {\n",
              "      background-color: #3B4455;\n",
              "      fill: #D2E3FC;\n",
              "    }\n",
              "\n",
              "    [theme=dark] .colab-df-convert:hover {\n",
              "      background-color: #434B5C;\n",
              "      box-shadow: 0px 1px 3px 1px rgba(0, 0, 0, 0.15);\n",
              "      filter: drop-shadow(0px 1px 2px rgba(0, 0, 0, 0.3));\n",
              "      fill: #FFFFFF;\n",
              "    }\n",
              "  </style>\n",
              "\n",
              "      <script>\n",
              "        const buttonEl =\n",
              "          document.querySelector('#df-2addd519-aab5-42d4-b413-f993ddea549b button.colab-df-convert');\n",
              "        buttonEl.style.display =\n",
              "          google.colab.kernel.accessAllowed ? 'block' : 'none';\n",
              "\n",
              "        async function convertToInteractive(key) {\n",
              "          const element = document.querySelector('#df-2addd519-aab5-42d4-b413-f993ddea549b');\n",
              "          const dataTable =\n",
              "            await google.colab.kernel.invokeFunction('convertToInteractive',\n",
              "                                                     [key], {});\n",
              "          if (!dataTable) return;\n",
              "\n",
              "          const docLinkHtml = 'Like what you see? Visit the ' +\n",
              "            '<a target=\"_blank\" href=https://colab.research.google.com/notebooks/data_table.ipynb>data table notebook</a>'\n",
              "            + ' to learn more about interactive tables.';\n",
              "          element.innerHTML = '';\n",
              "          dataTable['output_type'] = 'display_data';\n",
              "          await google.colab.output.renderOutput(dataTable, element);\n",
              "          const docLink = document.createElement('div');\n",
              "          docLink.innerHTML = docLinkHtml;\n",
              "          element.appendChild(docLink);\n",
              "        }\n",
              "      </script>\n",
              "    </div>\n",
              "  </div>\n",
              "  "
            ]
          },
          "metadata": {},
          "execution_count": 15
        }
      ],
      "source": [
        "df_data.drop(columns=['Unnamed: 0', 'Unnamed: 0.1'])\n"
      ]
    },
    {
      "cell_type": "code",
      "source": [
        "df_data.isna()"
      ],
      "metadata": {
        "colab": {
          "base_uri": "https://localhost:8080/",
          "height": 424
        },
        "id": "ldybY_nlVdN2",
        "outputId": "d78ae424-f7dc-40b4-9858-3dcc34c12be4"
      },
      "execution_count": 16,
      "outputs": [
        {
          "output_type": "execute_result",
          "data": {
            "text/plain": [
              "      Unnamed: 0  Unnamed: 0.1  Organisation  Location   Date  Detail  \\\n",
              "0          False         False         False     False  False   False   \n",
              "1          False         False         False     False  False   False   \n",
              "2          False         False         False     False  False   False   \n",
              "3          False         False         False     False  False   False   \n",
              "4          False         False         False     False  False   False   \n",
              "...          ...           ...           ...       ...    ...     ...   \n",
              "4319       False         False         False     False  False   False   \n",
              "4320       False         False         False     False  False   False   \n",
              "4321       False         False         False     False  False   False   \n",
              "4322       False         False         False     False  False   False   \n",
              "4323       False         False         False     False  False   False   \n",
              "\n",
              "      Rocket_Status  Price  Mission_Status  \n",
              "0             False  False           False  \n",
              "1             False  False           False  \n",
              "2             False   True           False  \n",
              "3             False  False           False  \n",
              "4             False  False           False  \n",
              "...             ...    ...             ...  \n",
              "4319          False   True           False  \n",
              "4320          False   True           False  \n",
              "4321          False   True           False  \n",
              "4322          False   True           False  \n",
              "4323          False   True           False  \n",
              "\n",
              "[4324 rows x 9 columns]"
            ],
            "text/html": [
              "\n",
              "  <div id=\"df-3020eb12-96a8-446f-bb97-54bcfdda515f\">\n",
              "    <div class=\"colab-df-container\">\n",
              "      <div>\n",
              "<style scoped>\n",
              "    .dataframe tbody tr th:only-of-type {\n",
              "        vertical-align: middle;\n",
              "    }\n",
              "\n",
              "    .dataframe tbody tr th {\n",
              "        vertical-align: top;\n",
              "    }\n",
              "\n",
              "    .dataframe thead th {\n",
              "        text-align: right;\n",
              "    }\n",
              "</style>\n",
              "<table border=\"1\" class=\"dataframe\">\n",
              "  <thead>\n",
              "    <tr style=\"text-align: right;\">\n",
              "      <th></th>\n",
              "      <th>Unnamed: 0</th>\n",
              "      <th>Unnamed: 0.1</th>\n",
              "      <th>Organisation</th>\n",
              "      <th>Location</th>\n",
              "      <th>Date</th>\n",
              "      <th>Detail</th>\n",
              "      <th>Rocket_Status</th>\n",
              "      <th>Price</th>\n",
              "      <th>Mission_Status</th>\n",
              "    </tr>\n",
              "  </thead>\n",
              "  <tbody>\n",
              "    <tr>\n",
              "      <th>0</th>\n",
              "      <td>False</td>\n",
              "      <td>False</td>\n",
              "      <td>False</td>\n",
              "      <td>False</td>\n",
              "      <td>False</td>\n",
              "      <td>False</td>\n",
              "      <td>False</td>\n",
              "      <td>False</td>\n",
              "      <td>False</td>\n",
              "    </tr>\n",
              "    <tr>\n",
              "      <th>1</th>\n",
              "      <td>False</td>\n",
              "      <td>False</td>\n",
              "      <td>False</td>\n",
              "      <td>False</td>\n",
              "      <td>False</td>\n",
              "      <td>False</td>\n",
              "      <td>False</td>\n",
              "      <td>False</td>\n",
              "      <td>False</td>\n",
              "    </tr>\n",
              "    <tr>\n",
              "      <th>2</th>\n",
              "      <td>False</td>\n",
              "      <td>False</td>\n",
              "      <td>False</td>\n",
              "      <td>False</td>\n",
              "      <td>False</td>\n",
              "      <td>False</td>\n",
              "      <td>False</td>\n",
              "      <td>True</td>\n",
              "      <td>False</td>\n",
              "    </tr>\n",
              "    <tr>\n",
              "      <th>3</th>\n",
              "      <td>False</td>\n",
              "      <td>False</td>\n",
              "      <td>False</td>\n",
              "      <td>False</td>\n",
              "      <td>False</td>\n",
              "      <td>False</td>\n",
              "      <td>False</td>\n",
              "      <td>False</td>\n",
              "      <td>False</td>\n",
              "    </tr>\n",
              "    <tr>\n",
              "      <th>4</th>\n",
              "      <td>False</td>\n",
              "      <td>False</td>\n",
              "      <td>False</td>\n",
              "      <td>False</td>\n",
              "      <td>False</td>\n",
              "      <td>False</td>\n",
              "      <td>False</td>\n",
              "      <td>False</td>\n",
              "      <td>False</td>\n",
              "    </tr>\n",
              "    <tr>\n",
              "      <th>...</th>\n",
              "      <td>...</td>\n",
              "      <td>...</td>\n",
              "      <td>...</td>\n",
              "      <td>...</td>\n",
              "      <td>...</td>\n",
              "      <td>...</td>\n",
              "      <td>...</td>\n",
              "      <td>...</td>\n",
              "      <td>...</td>\n",
              "    </tr>\n",
              "    <tr>\n",
              "      <th>4319</th>\n",
              "      <td>False</td>\n",
              "      <td>False</td>\n",
              "      <td>False</td>\n",
              "      <td>False</td>\n",
              "      <td>False</td>\n",
              "      <td>False</td>\n",
              "      <td>False</td>\n",
              "      <td>True</td>\n",
              "      <td>False</td>\n",
              "    </tr>\n",
              "    <tr>\n",
              "      <th>4320</th>\n",
              "      <td>False</td>\n",
              "      <td>False</td>\n",
              "      <td>False</td>\n",
              "      <td>False</td>\n",
              "      <td>False</td>\n",
              "      <td>False</td>\n",
              "      <td>False</td>\n",
              "      <td>True</td>\n",
              "      <td>False</td>\n",
              "    </tr>\n",
              "    <tr>\n",
              "      <th>4321</th>\n",
              "      <td>False</td>\n",
              "      <td>False</td>\n",
              "      <td>False</td>\n",
              "      <td>False</td>\n",
              "      <td>False</td>\n",
              "      <td>False</td>\n",
              "      <td>False</td>\n",
              "      <td>True</td>\n",
              "      <td>False</td>\n",
              "    </tr>\n",
              "    <tr>\n",
              "      <th>4322</th>\n",
              "      <td>False</td>\n",
              "      <td>False</td>\n",
              "      <td>False</td>\n",
              "      <td>False</td>\n",
              "      <td>False</td>\n",
              "      <td>False</td>\n",
              "      <td>False</td>\n",
              "      <td>True</td>\n",
              "      <td>False</td>\n",
              "    </tr>\n",
              "    <tr>\n",
              "      <th>4323</th>\n",
              "      <td>False</td>\n",
              "      <td>False</td>\n",
              "      <td>False</td>\n",
              "      <td>False</td>\n",
              "      <td>False</td>\n",
              "      <td>False</td>\n",
              "      <td>False</td>\n",
              "      <td>True</td>\n",
              "      <td>False</td>\n",
              "    </tr>\n",
              "  </tbody>\n",
              "</table>\n",
              "<p>4324 rows × 9 columns</p>\n",
              "</div>\n",
              "      <button class=\"colab-df-convert\" onclick=\"convertToInteractive('df-3020eb12-96a8-446f-bb97-54bcfdda515f')\"\n",
              "              title=\"Convert this dataframe to an interactive table.\"\n",
              "              style=\"display:none;\">\n",
              "        \n",
              "  <svg xmlns=\"http://www.w3.org/2000/svg\" height=\"24px\"viewBox=\"0 0 24 24\"\n",
              "       width=\"24px\">\n",
              "    <path d=\"M0 0h24v24H0V0z\" fill=\"none\"/>\n",
              "    <path d=\"M18.56 5.44l.94 2.06.94-2.06 2.06-.94-2.06-.94-.94-2.06-.94 2.06-2.06.94zm-11 1L8.5 8.5l.94-2.06 2.06-.94-2.06-.94L8.5 2.5l-.94 2.06-2.06.94zm10 10l.94 2.06.94-2.06 2.06-.94-2.06-.94-.94-2.06-.94 2.06-2.06.94z\"/><path d=\"M17.41 7.96l-1.37-1.37c-.4-.4-.92-.59-1.43-.59-.52 0-1.04.2-1.43.59L10.3 9.45l-7.72 7.72c-.78.78-.78 2.05 0 2.83L4 21.41c.39.39.9.59 1.41.59.51 0 1.02-.2 1.41-.59l7.78-7.78 2.81-2.81c.8-.78.8-2.07 0-2.86zM5.41 20L4 18.59l7.72-7.72 1.47 1.35L5.41 20z\"/>\n",
              "  </svg>\n",
              "      </button>\n",
              "      \n",
              "  <style>\n",
              "    .colab-df-container {\n",
              "      display:flex;\n",
              "      flex-wrap:wrap;\n",
              "      gap: 12px;\n",
              "    }\n",
              "\n",
              "    .colab-df-convert {\n",
              "      background-color: #E8F0FE;\n",
              "      border: none;\n",
              "      border-radius: 50%;\n",
              "      cursor: pointer;\n",
              "      display: none;\n",
              "      fill: #1967D2;\n",
              "      height: 32px;\n",
              "      padding: 0 0 0 0;\n",
              "      width: 32px;\n",
              "    }\n",
              "\n",
              "    .colab-df-convert:hover {\n",
              "      background-color: #E2EBFA;\n",
              "      box-shadow: 0px 1px 2px rgba(60, 64, 67, 0.3), 0px 1px 3px 1px rgba(60, 64, 67, 0.15);\n",
              "      fill: #174EA6;\n",
              "    }\n",
              "\n",
              "    [theme=dark] .colab-df-convert {\n",
              "      background-color: #3B4455;\n",
              "      fill: #D2E3FC;\n",
              "    }\n",
              "\n",
              "    [theme=dark] .colab-df-convert:hover {\n",
              "      background-color: #434B5C;\n",
              "      box-shadow: 0px 1px 3px 1px rgba(0, 0, 0, 0.15);\n",
              "      filter: drop-shadow(0px 1px 2px rgba(0, 0, 0, 0.3));\n",
              "      fill: #FFFFFF;\n",
              "    }\n",
              "  </style>\n",
              "\n",
              "      <script>\n",
              "        const buttonEl =\n",
              "          document.querySelector('#df-3020eb12-96a8-446f-bb97-54bcfdda515f button.colab-df-convert');\n",
              "        buttonEl.style.display =\n",
              "          google.colab.kernel.accessAllowed ? 'block' : 'none';\n",
              "\n",
              "        async function convertToInteractive(key) {\n",
              "          const element = document.querySelector('#df-3020eb12-96a8-446f-bb97-54bcfdda515f');\n",
              "          const dataTable =\n",
              "            await google.colab.kernel.invokeFunction('convertToInteractive',\n",
              "                                                     [key], {});\n",
              "          if (!dataTable) return;\n",
              "\n",
              "          const docLinkHtml = 'Like what you see? Visit the ' +\n",
              "            '<a target=\"_blank\" href=https://colab.research.google.com/notebooks/data_table.ipynb>data table notebook</a>'\n",
              "            + ' to learn more about interactive tables.';\n",
              "          element.innerHTML = '';\n",
              "          dataTable['output_type'] = 'display_data';\n",
              "          await google.colab.output.renderOutput(dataTable, element);\n",
              "          const docLink = document.createElement('div');\n",
              "          docLink.innerHTML = docLinkHtml;\n",
              "          element.appendChild(docLink);\n",
              "        }\n",
              "      </script>\n",
              "    </div>\n",
              "  </div>\n",
              "  "
            ]
          },
          "metadata": {},
          "execution_count": 16
        }
      ]
    },
    {
      "cell_type": "code",
      "execution_count": 18,
      "metadata": {
        "id": "SfxVooCYk2As",
        "colab": {
          "base_uri": "https://localhost:8080/",
          "height": 641
        },
        "outputId": "56ca785f-0741-46c6-e826-1baa668c9e4a"
      },
      "outputs": [
        {
          "output_type": "execute_result",
          "data": {
            "text/plain": [
              "      Organisation                                           Location  \\\n",
              "0           SpaceX         LC-39A, Kennedy Space Center, Florida, USA   \n",
              "1             CASC  Site 9401 (SLS-2), Jiuquan Satellite Launch Ce...   \n",
              "3        Roscosmos       Site 200/39, Baikonur Cosmodrome, Kazakhstan   \n",
              "4              ULA           SLC-41, Cape Canaveral AFS, Florida, USA   \n",
              "5             CASC       LC-9, Taiyuan Satellite Launch Center, China   \n",
              "...            ...                                                ...   \n",
              "3855  US Air Force            SLC-4W, Vandenberg AFB, California, USA   \n",
              "3971  US Air Force           SLC-20, Cape Canaveral AFS, Florida, USA   \n",
              "3993  US Air Force           SLC-20, Cape Canaveral AFS, Florida, USA   \n",
              "4000  US Air Force           SLC-20, Cape Canaveral AFS, Florida, USA   \n",
              "4020  US Air Force           SLC-20, Cape Canaveral AFS, Florida, USA   \n",
              "\n",
              "                            Date  \\\n",
              "0     Fri Aug 07, 2020 05:12 UTC   \n",
              "1     Thu Aug 06, 2020 04:01 UTC   \n",
              "3     Thu Jul 30, 2020 21:25 UTC   \n",
              "4     Thu Jul 30, 2020 11:50 UTC   \n",
              "5     Sat Jul 25, 2020 03:13 UTC   \n",
              "...                          ...   \n",
              "3855  Fri Jul 29, 1966 18:43 UTC   \n",
              "3971  Thu May 06, 1965 15:00 UTC   \n",
              "3993  Thu Feb 11, 1965 15:19 UTC   \n",
              "4000  Thu Dec 10, 1964 16:52 UTC   \n",
              "4020  Tue Sep 01, 1964 15:00 UTC   \n",
              "\n",
              "                                                 Detail  Rocket_Status  Price  \\\n",
              "0          Falcon 9 Block 5 | Starlink V1 L9 & BlackSky   StatusActive   50.0   \n",
              "1                   Long March 2D | Gaofen-9 04 & Q-SAT   StatusActive  29.75   \n",
              "3          Proton-M/Briz-M | Ekspress-80 & Ekspress-103   StatusActive   65.0   \n",
              "4                            Atlas V 541 | Perseverance   StatusActive  145.0   \n",
              "5     Long March 4B | Ziyuan-3 03, Apocalypse-10 & N...   StatusActive  64.68   \n",
              "...                                                 ...            ...    ...   \n",
              "3855                                  Titan IIIB | KH-8  StatusRetired   59.0   \n",
              "3971                         Titan IIIA | LES 2 & LCS 1  StatusRetired  63.23   \n",
              "3993                                 Titan IIIA | LES 1  StatusRetired  63.23   \n",
              "4000                           Titan IIIA | Transtage 2  StatusRetired  63.23   \n",
              "4020                           Titan IIIA | Transtage 1  StatusRetired  63.23   \n",
              "\n",
              "     Mission_Status  \n",
              "0           Success  \n",
              "1           Success  \n",
              "3           Success  \n",
              "4           Success  \n",
              "5           Success  \n",
              "...             ...  \n",
              "3855        Success  \n",
              "3971        Success  \n",
              "3993        Success  \n",
              "4000        Success  \n",
              "4020        Failure  \n",
              "\n",
              "[964 rows x 7 columns]"
            ],
            "text/html": [
              "\n",
              "  <div id=\"df-9dfc1627-9c20-49f9-9559-2edb88a6a1c4\">\n",
              "    <div class=\"colab-df-container\">\n",
              "      <div>\n",
              "<style scoped>\n",
              "    .dataframe tbody tr th:only-of-type {\n",
              "        vertical-align: middle;\n",
              "    }\n",
              "\n",
              "    .dataframe tbody tr th {\n",
              "        vertical-align: top;\n",
              "    }\n",
              "\n",
              "    .dataframe thead th {\n",
              "        text-align: right;\n",
              "    }\n",
              "</style>\n",
              "<table border=\"1\" class=\"dataframe\">\n",
              "  <thead>\n",
              "    <tr style=\"text-align: right;\">\n",
              "      <th></th>\n",
              "      <th>Organisation</th>\n",
              "      <th>Location</th>\n",
              "      <th>Date</th>\n",
              "      <th>Detail</th>\n",
              "      <th>Rocket_Status</th>\n",
              "      <th>Price</th>\n",
              "      <th>Mission_Status</th>\n",
              "    </tr>\n",
              "  </thead>\n",
              "  <tbody>\n",
              "    <tr>\n",
              "      <th>0</th>\n",
              "      <td>SpaceX</td>\n",
              "      <td>LC-39A, Kennedy Space Center, Florida, USA</td>\n",
              "      <td>Fri Aug 07, 2020 05:12 UTC</td>\n",
              "      <td>Falcon 9 Block 5 | Starlink V1 L9 &amp; BlackSky</td>\n",
              "      <td>StatusActive</td>\n",
              "      <td>50.0</td>\n",
              "      <td>Success</td>\n",
              "    </tr>\n",
              "    <tr>\n",
              "      <th>1</th>\n",
              "      <td>CASC</td>\n",
              "      <td>Site 9401 (SLS-2), Jiuquan Satellite Launch Ce...</td>\n",
              "      <td>Thu Aug 06, 2020 04:01 UTC</td>\n",
              "      <td>Long March 2D | Gaofen-9 04 &amp; Q-SAT</td>\n",
              "      <td>StatusActive</td>\n",
              "      <td>29.75</td>\n",
              "      <td>Success</td>\n",
              "    </tr>\n",
              "    <tr>\n",
              "      <th>3</th>\n",
              "      <td>Roscosmos</td>\n",
              "      <td>Site 200/39, Baikonur Cosmodrome, Kazakhstan</td>\n",
              "      <td>Thu Jul 30, 2020 21:25 UTC</td>\n",
              "      <td>Proton-M/Briz-M | Ekspress-80 &amp; Ekspress-103</td>\n",
              "      <td>StatusActive</td>\n",
              "      <td>65.0</td>\n",
              "      <td>Success</td>\n",
              "    </tr>\n",
              "    <tr>\n",
              "      <th>4</th>\n",
              "      <td>ULA</td>\n",
              "      <td>SLC-41, Cape Canaveral AFS, Florida, USA</td>\n",
              "      <td>Thu Jul 30, 2020 11:50 UTC</td>\n",
              "      <td>Atlas V 541 | Perseverance</td>\n",
              "      <td>StatusActive</td>\n",
              "      <td>145.0</td>\n",
              "      <td>Success</td>\n",
              "    </tr>\n",
              "    <tr>\n",
              "      <th>5</th>\n",
              "      <td>CASC</td>\n",
              "      <td>LC-9, Taiyuan Satellite Launch Center, China</td>\n",
              "      <td>Sat Jul 25, 2020 03:13 UTC</td>\n",
              "      <td>Long March 4B | Ziyuan-3 03, Apocalypse-10 &amp; N...</td>\n",
              "      <td>StatusActive</td>\n",
              "      <td>64.68</td>\n",
              "      <td>Success</td>\n",
              "    </tr>\n",
              "    <tr>\n",
              "      <th>...</th>\n",
              "      <td>...</td>\n",
              "      <td>...</td>\n",
              "      <td>...</td>\n",
              "      <td>...</td>\n",
              "      <td>...</td>\n",
              "      <td>...</td>\n",
              "      <td>...</td>\n",
              "    </tr>\n",
              "    <tr>\n",
              "      <th>3855</th>\n",
              "      <td>US Air Force</td>\n",
              "      <td>SLC-4W, Vandenberg AFB, California, USA</td>\n",
              "      <td>Fri Jul 29, 1966 18:43 UTC</td>\n",
              "      <td>Titan IIIB | KH-8</td>\n",
              "      <td>StatusRetired</td>\n",
              "      <td>59.0</td>\n",
              "      <td>Success</td>\n",
              "    </tr>\n",
              "    <tr>\n",
              "      <th>3971</th>\n",
              "      <td>US Air Force</td>\n",
              "      <td>SLC-20, Cape Canaveral AFS, Florida, USA</td>\n",
              "      <td>Thu May 06, 1965 15:00 UTC</td>\n",
              "      <td>Titan IIIA | LES 2 &amp; LCS 1</td>\n",
              "      <td>StatusRetired</td>\n",
              "      <td>63.23</td>\n",
              "      <td>Success</td>\n",
              "    </tr>\n",
              "    <tr>\n",
              "      <th>3993</th>\n",
              "      <td>US Air Force</td>\n",
              "      <td>SLC-20, Cape Canaveral AFS, Florida, USA</td>\n",
              "      <td>Thu Feb 11, 1965 15:19 UTC</td>\n",
              "      <td>Titan IIIA | LES 1</td>\n",
              "      <td>StatusRetired</td>\n",
              "      <td>63.23</td>\n",
              "      <td>Success</td>\n",
              "    </tr>\n",
              "    <tr>\n",
              "      <th>4000</th>\n",
              "      <td>US Air Force</td>\n",
              "      <td>SLC-20, Cape Canaveral AFS, Florida, USA</td>\n",
              "      <td>Thu Dec 10, 1964 16:52 UTC</td>\n",
              "      <td>Titan IIIA | Transtage 2</td>\n",
              "      <td>StatusRetired</td>\n",
              "      <td>63.23</td>\n",
              "      <td>Success</td>\n",
              "    </tr>\n",
              "    <tr>\n",
              "      <th>4020</th>\n",
              "      <td>US Air Force</td>\n",
              "      <td>SLC-20, Cape Canaveral AFS, Florida, USA</td>\n",
              "      <td>Tue Sep 01, 1964 15:00 UTC</td>\n",
              "      <td>Titan IIIA | Transtage 1</td>\n",
              "      <td>StatusRetired</td>\n",
              "      <td>63.23</td>\n",
              "      <td>Failure</td>\n",
              "    </tr>\n",
              "  </tbody>\n",
              "</table>\n",
              "<p>964 rows × 7 columns</p>\n",
              "</div>\n",
              "      <button class=\"colab-df-convert\" onclick=\"convertToInteractive('df-9dfc1627-9c20-49f9-9559-2edb88a6a1c4')\"\n",
              "              title=\"Convert this dataframe to an interactive table.\"\n",
              "              style=\"display:none;\">\n",
              "        \n",
              "  <svg xmlns=\"http://www.w3.org/2000/svg\" height=\"24px\"viewBox=\"0 0 24 24\"\n",
              "       width=\"24px\">\n",
              "    <path d=\"M0 0h24v24H0V0z\" fill=\"none\"/>\n",
              "    <path d=\"M18.56 5.44l.94 2.06.94-2.06 2.06-.94-2.06-.94-.94-2.06-.94 2.06-2.06.94zm-11 1L8.5 8.5l.94-2.06 2.06-.94-2.06-.94L8.5 2.5l-.94 2.06-2.06.94zm10 10l.94 2.06.94-2.06 2.06-.94-2.06-.94-.94-2.06-.94 2.06-2.06.94z\"/><path d=\"M17.41 7.96l-1.37-1.37c-.4-.4-.92-.59-1.43-.59-.52 0-1.04.2-1.43.59L10.3 9.45l-7.72 7.72c-.78.78-.78 2.05 0 2.83L4 21.41c.39.39.9.59 1.41.59.51 0 1.02-.2 1.41-.59l7.78-7.78 2.81-2.81c.8-.78.8-2.07 0-2.86zM5.41 20L4 18.59l7.72-7.72 1.47 1.35L5.41 20z\"/>\n",
              "  </svg>\n",
              "      </button>\n",
              "      \n",
              "  <style>\n",
              "    .colab-df-container {\n",
              "      display:flex;\n",
              "      flex-wrap:wrap;\n",
              "      gap: 12px;\n",
              "    }\n",
              "\n",
              "    .colab-df-convert {\n",
              "      background-color: #E8F0FE;\n",
              "      border: none;\n",
              "      border-radius: 50%;\n",
              "      cursor: pointer;\n",
              "      display: none;\n",
              "      fill: #1967D2;\n",
              "      height: 32px;\n",
              "      padding: 0 0 0 0;\n",
              "      width: 32px;\n",
              "    }\n",
              "\n",
              "    .colab-df-convert:hover {\n",
              "      background-color: #E2EBFA;\n",
              "      box-shadow: 0px 1px 2px rgba(60, 64, 67, 0.3), 0px 1px 3px 1px rgba(60, 64, 67, 0.15);\n",
              "      fill: #174EA6;\n",
              "    }\n",
              "\n",
              "    [theme=dark] .colab-df-convert {\n",
              "      background-color: #3B4455;\n",
              "      fill: #D2E3FC;\n",
              "    }\n",
              "\n",
              "    [theme=dark] .colab-df-convert:hover {\n",
              "      background-color: #434B5C;\n",
              "      box-shadow: 0px 1px 3px 1px rgba(0, 0, 0, 0.15);\n",
              "      filter: drop-shadow(0px 1px 2px rgba(0, 0, 0, 0.3));\n",
              "      fill: #FFFFFF;\n",
              "    }\n",
              "  </style>\n",
              "\n",
              "      <script>\n",
              "        const buttonEl =\n",
              "          document.querySelector('#df-9dfc1627-9c20-49f9-9559-2edb88a6a1c4 button.colab-df-convert');\n",
              "        buttonEl.style.display =\n",
              "          google.colab.kernel.accessAllowed ? 'block' : 'none';\n",
              "\n",
              "        async function convertToInteractive(key) {\n",
              "          const element = document.querySelector('#df-9dfc1627-9c20-49f9-9559-2edb88a6a1c4');\n",
              "          const dataTable =\n",
              "            await google.colab.kernel.invokeFunction('convertToInteractive',\n",
              "                                                     [key], {});\n",
              "          if (!dataTable) return;\n",
              "\n",
              "          const docLinkHtml = 'Like what you see? Visit the ' +\n",
              "            '<a target=\"_blank\" href=https://colab.research.google.com/notebooks/data_table.ipynb>data table notebook</a>'\n",
              "            + ' to learn more about interactive tables.';\n",
              "          element.innerHTML = '';\n",
              "          dataTable['output_type'] = 'display_data';\n",
              "          await google.colab.output.renderOutput(dataTable, element);\n",
              "          const docLink = document.createElement('div');\n",
              "          docLink.innerHTML = docLinkHtml;\n",
              "          element.appendChild(docLink);\n",
              "        }\n",
              "      </script>\n",
              "    </div>\n",
              "  </div>\n",
              "  "
            ]
          },
          "metadata": {},
          "execution_count": 18
        }
      ],
      "source": [
        "# dropna() removes the duplicate values.\n",
        "# This is checked with a shape call which updates us with 964 rows and 9 columns.\n",
        "# We take this one step further removing two unnecessary columns.\n",
        "df_data_clean = df_data.dropna()\n",
        "df_data_clean.shape\n",
        "df_data_clean.drop(columns=['Unnamed: 0', 'Unnamed: 0.1'])\n",
        "\n"
      ]
    },
    {
      "cell_type": "markdown",
      "metadata": {
        "id": "QHon_T5sa-p_",
        "papermill": {
          "duration": 0.036712,
          "end_time": "2020-10-20T21:34:05.227032",
          "exception": false,
          "start_time": "2020-10-20T21:34:05.190320",
          "status": "completed"
        },
        "tags": []
      },
      "source": [
        "## Descriptive Statistics"
      ]
    },
    {
      "cell_type": "code",
      "execution_count": 19,
      "metadata": {
        "id": "Fh1-libjkJIK",
        "colab": {
          "base_uri": "https://localhost:8080/",
          "height": 300
        },
        "outputId": "29cd940a-5b32-43b4-9687-22fce9a2dc7f"
      },
      "outputs": [
        {
          "output_type": "execute_result",
          "data": {
            "text/plain": [
              "       Unnamed: 0  Unnamed: 0.1\n",
              "count      964.00        964.00\n",
              "mean       858.49        858.49\n",
              "std        784.21        784.21\n",
              "min          0.00          0.00\n",
              "25%        324.75        324.75\n",
              "50%        660.50        660.50\n",
              "75%      1,112.00      1,112.00\n",
              "max      4,020.00      4,020.00"
            ],
            "text/html": [
              "\n",
              "  <div id=\"df-7c8ce5f5-ed64-46d9-946e-0c59485e89f6\">\n",
              "    <div class=\"colab-df-container\">\n",
              "      <div>\n",
              "<style scoped>\n",
              "    .dataframe tbody tr th:only-of-type {\n",
              "        vertical-align: middle;\n",
              "    }\n",
              "\n",
              "    .dataframe tbody tr th {\n",
              "        vertical-align: top;\n",
              "    }\n",
              "\n",
              "    .dataframe thead th {\n",
              "        text-align: right;\n",
              "    }\n",
              "</style>\n",
              "<table border=\"1\" class=\"dataframe\">\n",
              "  <thead>\n",
              "    <tr style=\"text-align: right;\">\n",
              "      <th></th>\n",
              "      <th>Unnamed: 0</th>\n",
              "      <th>Unnamed: 0.1</th>\n",
              "    </tr>\n",
              "  </thead>\n",
              "  <tbody>\n",
              "    <tr>\n",
              "      <th>count</th>\n",
              "      <td>964.00</td>\n",
              "      <td>964.00</td>\n",
              "    </tr>\n",
              "    <tr>\n",
              "      <th>mean</th>\n",
              "      <td>858.49</td>\n",
              "      <td>858.49</td>\n",
              "    </tr>\n",
              "    <tr>\n",
              "      <th>std</th>\n",
              "      <td>784.21</td>\n",
              "      <td>784.21</td>\n",
              "    </tr>\n",
              "    <tr>\n",
              "      <th>min</th>\n",
              "      <td>0.00</td>\n",
              "      <td>0.00</td>\n",
              "    </tr>\n",
              "    <tr>\n",
              "      <th>25%</th>\n",
              "      <td>324.75</td>\n",
              "      <td>324.75</td>\n",
              "    </tr>\n",
              "    <tr>\n",
              "      <th>50%</th>\n",
              "      <td>660.50</td>\n",
              "      <td>660.50</td>\n",
              "    </tr>\n",
              "    <tr>\n",
              "      <th>75%</th>\n",
              "      <td>1,112.00</td>\n",
              "      <td>1,112.00</td>\n",
              "    </tr>\n",
              "    <tr>\n",
              "      <th>max</th>\n",
              "      <td>4,020.00</td>\n",
              "      <td>4,020.00</td>\n",
              "    </tr>\n",
              "  </tbody>\n",
              "</table>\n",
              "</div>\n",
              "      <button class=\"colab-df-convert\" onclick=\"convertToInteractive('df-7c8ce5f5-ed64-46d9-946e-0c59485e89f6')\"\n",
              "              title=\"Convert this dataframe to an interactive table.\"\n",
              "              style=\"display:none;\">\n",
              "        \n",
              "  <svg xmlns=\"http://www.w3.org/2000/svg\" height=\"24px\"viewBox=\"0 0 24 24\"\n",
              "       width=\"24px\">\n",
              "    <path d=\"M0 0h24v24H0V0z\" fill=\"none\"/>\n",
              "    <path d=\"M18.56 5.44l.94 2.06.94-2.06 2.06-.94-2.06-.94-.94-2.06-.94 2.06-2.06.94zm-11 1L8.5 8.5l.94-2.06 2.06-.94-2.06-.94L8.5 2.5l-.94 2.06-2.06.94zm10 10l.94 2.06.94-2.06 2.06-.94-2.06-.94-.94-2.06-.94 2.06-2.06.94z\"/><path d=\"M17.41 7.96l-1.37-1.37c-.4-.4-.92-.59-1.43-.59-.52 0-1.04.2-1.43.59L10.3 9.45l-7.72 7.72c-.78.78-.78 2.05 0 2.83L4 21.41c.39.39.9.59 1.41.59.51 0 1.02-.2 1.41-.59l7.78-7.78 2.81-2.81c.8-.78.8-2.07 0-2.86zM5.41 20L4 18.59l7.72-7.72 1.47 1.35L5.41 20z\"/>\n",
              "  </svg>\n",
              "      </button>\n",
              "      \n",
              "  <style>\n",
              "    .colab-df-container {\n",
              "      display:flex;\n",
              "      flex-wrap:wrap;\n",
              "      gap: 12px;\n",
              "    }\n",
              "\n",
              "    .colab-df-convert {\n",
              "      background-color: #E8F0FE;\n",
              "      border: none;\n",
              "      border-radius: 50%;\n",
              "      cursor: pointer;\n",
              "      display: none;\n",
              "      fill: #1967D2;\n",
              "      height: 32px;\n",
              "      padding: 0 0 0 0;\n",
              "      width: 32px;\n",
              "    }\n",
              "\n",
              "    .colab-df-convert:hover {\n",
              "      background-color: #E2EBFA;\n",
              "      box-shadow: 0px 1px 2px rgba(60, 64, 67, 0.3), 0px 1px 3px 1px rgba(60, 64, 67, 0.15);\n",
              "      fill: #174EA6;\n",
              "    }\n",
              "\n",
              "    [theme=dark] .colab-df-convert {\n",
              "      background-color: #3B4455;\n",
              "      fill: #D2E3FC;\n",
              "    }\n",
              "\n",
              "    [theme=dark] .colab-df-convert:hover {\n",
              "      background-color: #434B5C;\n",
              "      box-shadow: 0px 1px 3px 1px rgba(0, 0, 0, 0.15);\n",
              "      filter: drop-shadow(0px 1px 2px rgba(0, 0, 0, 0.3));\n",
              "      fill: #FFFFFF;\n",
              "    }\n",
              "  </style>\n",
              "\n",
              "      <script>\n",
              "        const buttonEl =\n",
              "          document.querySelector('#df-7c8ce5f5-ed64-46d9-946e-0c59485e89f6 button.colab-df-convert');\n",
              "        buttonEl.style.display =\n",
              "          google.colab.kernel.accessAllowed ? 'block' : 'none';\n",
              "\n",
              "        async function convertToInteractive(key) {\n",
              "          const element = document.querySelector('#df-7c8ce5f5-ed64-46d9-946e-0c59485e89f6');\n",
              "          const dataTable =\n",
              "            await google.colab.kernel.invokeFunction('convertToInteractive',\n",
              "                                                     [key], {});\n",
              "          if (!dataTable) return;\n",
              "\n",
              "          const docLinkHtml = 'Like what you see? Visit the ' +\n",
              "            '<a target=\"_blank\" href=https://colab.research.google.com/notebooks/data_table.ipynb>data table notebook</a>'\n",
              "            + ' to learn more about interactive tables.';\n",
              "          element.innerHTML = '';\n",
              "          dataTable['output_type'] = 'display_data';\n",
              "          await google.colab.output.renderOutput(dataTable, element);\n",
              "          const docLink = document.createElement('div');\n",
              "          docLink.innerHTML = docLinkHtml;\n",
              "          element.appendChild(docLink);\n",
              "        }\n",
              "      </script>\n",
              "    </div>\n",
              "  </div>\n",
              "  "
            ]
          },
          "metadata": {},
          "execution_count": 19
        }
      ],
      "source": [
        "df_data_clean.describe()\n",
        "# This will give us some details about the clean data"
      ]
    },
    {
      "cell_type": "code",
      "execution_count": 21,
      "metadata": {
        "id": "dGZa5HdbkJBT",
        "colab": {
          "base_uri": "https://localhost:8080/",
          "height": 206
        },
        "outputId": "6ae4443a-dcf8-4df9-a73e-69260ba67288"
      },
      "outputs": [
        {
          "output_type": "execute_result",
          "data": {
            "text/plain": [
              "                   Unnamed: 0  Unnamed: 0.1  Organisation  Location  Date  \\\n",
              "Mission_Status                                                              \n",
              "Failure                    36            36            36        36    36   \n",
              "Partial Failure            17            17            17        17    17   \n",
              "Prelaunch Failure           1             1             1         1     1   \n",
              "Success                   910           910           910       910   910   \n",
              "\n",
              "                   Detail  Rocket_Status  Price  \n",
              "Mission_Status                                   \n",
              "Failure                36             36     36  \n",
              "Partial Failure        17             17     17  \n",
              "Prelaunch Failure       1              1      1  \n",
              "Success               910            910    910  "
            ],
            "text/html": [
              "\n",
              "  <div id=\"df-74a07dc9-6cf6-48a8-ad34-c3d215b21886\">\n",
              "    <div class=\"colab-df-container\">\n",
              "      <div>\n",
              "<style scoped>\n",
              "    .dataframe tbody tr th:only-of-type {\n",
              "        vertical-align: middle;\n",
              "    }\n",
              "\n",
              "    .dataframe tbody tr th {\n",
              "        vertical-align: top;\n",
              "    }\n",
              "\n",
              "    .dataframe thead th {\n",
              "        text-align: right;\n",
              "    }\n",
              "</style>\n",
              "<table border=\"1\" class=\"dataframe\">\n",
              "  <thead>\n",
              "    <tr style=\"text-align: right;\">\n",
              "      <th></th>\n",
              "      <th>Unnamed: 0</th>\n",
              "      <th>Unnamed: 0.1</th>\n",
              "      <th>Organisation</th>\n",
              "      <th>Location</th>\n",
              "      <th>Date</th>\n",
              "      <th>Detail</th>\n",
              "      <th>Rocket_Status</th>\n",
              "      <th>Price</th>\n",
              "    </tr>\n",
              "    <tr>\n",
              "      <th>Mission_Status</th>\n",
              "      <th></th>\n",
              "      <th></th>\n",
              "      <th></th>\n",
              "      <th></th>\n",
              "      <th></th>\n",
              "      <th></th>\n",
              "      <th></th>\n",
              "      <th></th>\n",
              "    </tr>\n",
              "  </thead>\n",
              "  <tbody>\n",
              "    <tr>\n",
              "      <th>Failure</th>\n",
              "      <td>36</td>\n",
              "      <td>36</td>\n",
              "      <td>36</td>\n",
              "      <td>36</td>\n",
              "      <td>36</td>\n",
              "      <td>36</td>\n",
              "      <td>36</td>\n",
              "      <td>36</td>\n",
              "    </tr>\n",
              "    <tr>\n",
              "      <th>Partial Failure</th>\n",
              "      <td>17</td>\n",
              "      <td>17</td>\n",
              "      <td>17</td>\n",
              "      <td>17</td>\n",
              "      <td>17</td>\n",
              "      <td>17</td>\n",
              "      <td>17</td>\n",
              "      <td>17</td>\n",
              "    </tr>\n",
              "    <tr>\n",
              "      <th>Prelaunch Failure</th>\n",
              "      <td>1</td>\n",
              "      <td>1</td>\n",
              "      <td>1</td>\n",
              "      <td>1</td>\n",
              "      <td>1</td>\n",
              "      <td>1</td>\n",
              "      <td>1</td>\n",
              "      <td>1</td>\n",
              "    </tr>\n",
              "    <tr>\n",
              "      <th>Success</th>\n",
              "      <td>910</td>\n",
              "      <td>910</td>\n",
              "      <td>910</td>\n",
              "      <td>910</td>\n",
              "      <td>910</td>\n",
              "      <td>910</td>\n",
              "      <td>910</td>\n",
              "      <td>910</td>\n",
              "    </tr>\n",
              "  </tbody>\n",
              "</table>\n",
              "</div>\n",
              "      <button class=\"colab-df-convert\" onclick=\"convertToInteractive('df-74a07dc9-6cf6-48a8-ad34-c3d215b21886')\"\n",
              "              title=\"Convert this dataframe to an interactive table.\"\n",
              "              style=\"display:none;\">\n",
              "        \n",
              "  <svg xmlns=\"http://www.w3.org/2000/svg\" height=\"24px\"viewBox=\"0 0 24 24\"\n",
              "       width=\"24px\">\n",
              "    <path d=\"M0 0h24v24H0V0z\" fill=\"none\"/>\n",
              "    <path d=\"M18.56 5.44l.94 2.06.94-2.06 2.06-.94-2.06-.94-.94-2.06-.94 2.06-2.06.94zm-11 1L8.5 8.5l.94-2.06 2.06-.94-2.06-.94L8.5 2.5l-.94 2.06-2.06.94zm10 10l.94 2.06.94-2.06 2.06-.94-2.06-.94-.94-2.06-.94 2.06-2.06.94z\"/><path d=\"M17.41 7.96l-1.37-1.37c-.4-.4-.92-.59-1.43-.59-.52 0-1.04.2-1.43.59L10.3 9.45l-7.72 7.72c-.78.78-.78 2.05 0 2.83L4 21.41c.39.39.9.59 1.41.59.51 0 1.02-.2 1.41-.59l7.78-7.78 2.81-2.81c.8-.78.8-2.07 0-2.86zM5.41 20L4 18.59l7.72-7.72 1.47 1.35L5.41 20z\"/>\n",
              "  </svg>\n",
              "      </button>\n",
              "      \n",
              "  <style>\n",
              "    .colab-df-container {\n",
              "      display:flex;\n",
              "      flex-wrap:wrap;\n",
              "      gap: 12px;\n",
              "    }\n",
              "\n",
              "    .colab-df-convert {\n",
              "      background-color: #E8F0FE;\n",
              "      border: none;\n",
              "      border-radius: 50%;\n",
              "      cursor: pointer;\n",
              "      display: none;\n",
              "      fill: #1967D2;\n",
              "      height: 32px;\n",
              "      padding: 0 0 0 0;\n",
              "      width: 32px;\n",
              "    }\n",
              "\n",
              "    .colab-df-convert:hover {\n",
              "      background-color: #E2EBFA;\n",
              "      box-shadow: 0px 1px 2px rgba(60, 64, 67, 0.3), 0px 1px 3px 1px rgba(60, 64, 67, 0.15);\n",
              "      fill: #174EA6;\n",
              "    }\n",
              "\n",
              "    [theme=dark] .colab-df-convert {\n",
              "      background-color: #3B4455;\n",
              "      fill: #D2E3FC;\n",
              "    }\n",
              "\n",
              "    [theme=dark] .colab-df-convert:hover {\n",
              "      background-color: #434B5C;\n",
              "      box-shadow: 0px 1px 3px 1px rgba(0, 0, 0, 0.15);\n",
              "      filter: drop-shadow(0px 1px 2px rgba(0, 0, 0, 0.3));\n",
              "      fill: #FFFFFF;\n",
              "    }\n",
              "  </style>\n",
              "\n",
              "      <script>\n",
              "        const buttonEl =\n",
              "          document.querySelector('#df-74a07dc9-6cf6-48a8-ad34-c3d215b21886 button.colab-df-convert');\n",
              "        buttonEl.style.display =\n",
              "          google.colab.kernel.accessAllowed ? 'block' : 'none';\n",
              "\n",
              "        async function convertToInteractive(key) {\n",
              "          const element = document.querySelector('#df-74a07dc9-6cf6-48a8-ad34-c3d215b21886');\n",
              "          const dataTable =\n",
              "            await google.colab.kernel.invokeFunction('convertToInteractive',\n",
              "                                                     [key], {});\n",
              "          if (!dataTable) return;\n",
              "\n",
              "          const docLinkHtml = 'Like what you see? Visit the ' +\n",
              "            '<a target=\"_blank\" href=https://colab.research.google.com/notebooks/data_table.ipynb>data table notebook</a>'\n",
              "            + ' to learn more about interactive tables.';\n",
              "          element.innerHTML = '';\n",
              "          dataTable['output_type'] = 'display_data';\n",
              "          await google.colab.output.renderOutput(dataTable, element);\n",
              "          const docLink = document.createElement('div');\n",
              "          docLink.innerHTML = docLinkHtml;\n",
              "          element.appendChild(docLink);\n",
              "        }\n",
              "      </script>\n",
              "    </div>\n",
              "  </div>\n",
              "  "
            ]
          },
          "metadata": {},
          "execution_count": 21
        }
      ],
      "source": [
        "df_data_clean.groupby('Mission_Status').count()\n",
        "# This shows us that across the dataset, there were over 900 successful missions."
      ]
    },
    {
      "cell_type": "markdown",
      "metadata": {
        "id": "cgCjcpeUkKPW"
      },
      "source": [
        "# Number of Launches per Company\n",
        "\n",
        "Create a chart that shows the number of space mission launches by organisation."
      ]
    },
    {
      "cell_type": "code",
      "execution_count": null,
      "metadata": {
        "id": "rxvcIrtskxYB",
        "outputId": "68af8402-7c0b-4bd1-ef89-73deb9b25ec3"
      },
      "outputs": [
        {
          "data": {
            "application/vnd.plotly.v1+json": {
              "config": {
                "plotlyServerURL": "https://plot.ly"
              },
              "data": [
                {
                  "alignmentgroup": "True",
                  "hovertemplate": "x=%{x}<br>count=%{y}<extra></extra>",
                  "legendgroup": "",
                  "marker": {
                    "color": "#636efa",
                    "pattern": {
                      "shape": ""
                    }
                  },
                  "name": "",
                  "offsetgroup": "",
                  "orientation": "v",
                  "showlegend": false,
                  "textposition": "auto",
                  "type": "bar",
                  "x": [
                    "SpaceX",
                    "CASC",
                    "Roscosmos",
                    "ULA",
                    "CASC",
                    "Roscosmos",
                    "SpaceX",
                    "JAXA",
                    "Northrop",
                    "ExPace",
                    "CASC",
                    "CASC",
                    "Rocket Lab",
                    "CASC",
                    "SpaceX",
                    "CASC",
                    "CASC",
                    "SpaceX",
                    "Rocket Lab",
                    "CASC",
                    "SpaceX",
                    "CASC",
                    "SpaceX",
                    "CASC",
                    "Virgin Orbit",
                    "MHI",
                    "ULA",
                    "Roscosmos",
                    "SpaceX",
                    "CASC",
                    "Roscosmos",
                    "ULA",
                    "CASC",
                    "Arianespace",
                    "SpaceX",
                    "CASC",
                    "SpaceX",
                    "VKS RF",
                    "CASC",
                    "Arianespace",
                    "SpaceX",
                    "Northrop",
                    "ULA",
                    "MHI",
                    "Arianespace",
                    "Rocket Lab",
                    "SpaceX",
                    "SpaceX",
                    "Arianespace",
                    "CASC",
                    "CASC",
                    "SpaceX",
                    "VKS RF",
                    "Roscosmos",
                    "CASC",
                    "SpaceX",
                    "ISRO",
                    "VKS RF",
                    "Roscosmos",
                    "Rocket Lab",
                    "SpaceX",
                    "CASC",
                    "ISRO",
                    "Arianespace",
                    "SpaceX",
                    "CASC",
                    "CASC",
                    "Northrop",
                    "CASC",
                    "Rocket Lab",
                    "Northrop",
                    "ILS",
                    "CASC",
                    "VKS RF",
                    "CASC",
                    "MHI",
                    "CASC",
                    "CASC",
                    "VKS RF",
                    "ULA",
                    "Roscosmos",
                    "Rocket Lab",
                    "CASC",
                    "CASC",
                    "ULA",
                    "SpaceX",
                    "Arianespace",
                    "Roscosmos",
                    "Roscosmos",
                    "VKS RF",
                    "CASC",
                    "SpaceX",
                    "ISRO",
                    "Roscosmos",
                    "Arianespace",
                    "Rocket Lab",
                    "SpaceX",
                    "CASC",
                    "Arianespace",
                    "SpaceX",
                    "CASC",
                    "Roscosmos",
                    "SpaceX",
                    "CASC",
                    "ISRO",
                    "Rocket Lab",
                    "SpaceX",
                    "CASC",
                    "CASC",
                    "Northrop",
                    "SpaceX",
                    "Roscosmos",
                    "ISRO",
                    "CASC",
                    "Rocket Lab",
                    "Arianespace",
                    "CASC",
                    "SpaceX",
                    "SpaceX",
                    "Arianespace",
                    "CASC",
                    "ULA",
                    "JAXA",
                    "SpaceX",
                    "CASC",
                    "Roscosmos",
                    "SpaceX",
                    "CASC",
                    "VKS RF",
                    "ISRO",
                    "Rocket Lab",
                    "CASC",
                    "CASC",
                    "SpaceX",
                    "Arianespace",
                    "SpaceX",
                    "VKS RF",
                    "ISRO",
                    "Arianespace",
                    "CASC",
                    "Northrop",
                    "SpaceX",
                    "ISRO",
                    "Rocket Lab",
                    "VKS RF",
                    "CASC",
                    "MHI",
                    "CASC",
                    "Roscosmos",
                    "CASC",
                    "Arianespace",
                    "ULA",
                    "CASC",
                    "SpaceX",
                    "Arianespace",
                    "MHI",
                    "ISRO",
                    "SpaceX",
                    "CASC",
                    "Arianespace",
                    "ULA",
                    "SpaceX",
                    "CASC",
                    "SpaceX",
                    "SpaceX",
                    "Roscosmos",
                    "CASC",
                    "CASC",
                    "SpaceX",
                    "CASC",
                    "MHI",
                    "CASC",
                    "SpaceX",
                    "CASC",
                    "SpaceX",
                    "Northrop",
                    "CASC",
                    "SpaceX",
                    "CASC",
                    "ULA",
                    "CASC",
                    "CASC",
                    "Eurockot",
                    "SpaceX",
                    "VKS RF",
                    "ULA",
                    "ISRO",
                    "CASC",
                    "Arianespace",
                    "SpaceX",
                    "CASC",
                    "SpaceX",
                    "ISRO",
                    "CASC",
                    "SpaceX",
                    "ULA",
                    "MHI",
                    "SpaceX",
                    "Roscosmos",
                    "SpaceX",
                    "CASC",
                    "Roscosmos",
                    "SpaceX",
                    "Arianespace",
                    "CASC",
                    "Rocket Lab",
                    "ULA",
                    "CASC",
                    "JAXA",
                    "CASC",
                    "ISRO",
                    "CASC",
                    "SpaceX",
                    "CASC",
                    "CASC",
                    "SpaceX",
                    "MHI",
                    "SpaceX",
                    "CASC",
                    "CASC",
                    "VKS RF",
                    "CASC",
                    "CASC",
                    "Northrop",
                    "Arianespace",
                    "Northrop",
                    "SpaceX",
                    "ULA",
                    "Roscosmos",
                    "Eurockot",
                    "SpaceX",
                    "MHI",
                    "SpaceX",
                    "CASC",
                    "Arianespace",
                    "CASC",
                    "VKS RF",
                    "ULA",
                    "ILS",
                    "SpaceX",
                    "ISRO",
                    "Northrop",
                    "SpaceX",
                    "ULA",
                    "VKS RF",
                    "SpaceX",
                    "Arianespace",
                    "Roscosmos",
                    "SpaceX",
                    "Arianespace",
                    "SpaceX",
                    "SpaceX",
                    "ISRO",
                    "CASC",
                    "CASC",
                    "Roscosmos",
                    "ILS",
                    "ISRO",
                    "SpaceX",
                    "Arianespace",
                    "MHI",
                    "Rocket Lab",
                    "SpaceX",
                    "ISRO",
                    "Arianespace",
                    "SpaceX",
                    "ULA",
                    "CASC",
                    "SpaceX",
                    "MHI",
                    "SpaceX",
                    "Arianespace",
                    "ULA",
                    "SpaceX",
                    "ISRO",
                    "Arianespace",
                    "ULA",
                    "SpaceX",
                    "CASC",
                    "CASC",
                    "Arianespace",
                    "CASC",
                    "ULA",
                    "Northrop",
                    "CASC",
                    "MHI",
                    "ISRO",
                    "Arianespace",
                    "ULA",
                    "CASC",
                    "ULA",
                    "CASC",
                    "MHI",
                    "Northrop",
                    "Arianespace",
                    "ISRO",
                    "Arianespace",
                    "ULA",
                    "ISRO",
                    "SpaceX",
                    "CASC",
                    "Arianespace",
                    "ULA",
                    "CASC",
                    "SpaceX",
                    "CASC",
                    "CASC",
                    "ULA",
                    "SpaceX",
                    "CASC",
                    "ULA",
                    "ISRO",
                    "Arianespace",
                    "SpaceX",
                    "ULA",
                    "ILS",
                    "VKS RF",
                    "CASC",
                    "VKS RF",
                    "SpaceX",
                    "CASC",
                    "SpaceX",
                    "ISRO",
                    "SpaceX",
                    "CASC",
                    "Roscosmos",
                    "CASC",
                    "VKS RF",
                    "ULA",
                    "Roscosmos",
                    "Roscosmos",
                    "ISRO",
                    "Arianespace",
                    "SpaceX",
                    "MHI",
                    "Eurockot",
                    "VKS RF",
                    "ULA",
                    "ILS",
                    "Arianespace",
                    "ISRO",
                    "SpaceX",
                    "CASC",
                    "SpaceX",
                    "ISRO",
                    "ULA",
                    "Arianespace",
                    "Arianespace",
                    "Sandia",
                    "ULA",
                    "ULA",
                    "ULA",
                    "Arianespace",
                    "ISRO",
                    "CASC",
                    "VKS RF",
                    "ULA",
                    "ISRO",
                    "Arianespace",
                    "MHI",
                    "Arianespace",
                    "ULA",
                    "ISRO",
                    "SpaceX",
                    "Arianespace",
                    "Arianespace",
                    "ULA",
                    "SpaceX",
                    "Arianespace",
                    "SpaceX",
                    "VKS RF",
                    "ISRO",
                    "MHI",
                    "Kosmotras",
                    "ULA",
                    "ULA",
                    "SpaceX",
                    "SpaceX",
                    "Arianespace",
                    "MHI",
                    "ULA",
                    "SpaceX",
                    "ISRO",
                    "ULA",
                    "Arianespace",
                    "ULA",
                    "MHI",
                    "Kosmotras",
                    "ULA",
                    "Northrop",
                    "Arianespace",
                    "ISRO",
                    "MHI",
                    "SpaceX",
                    "ULA",
                    "Arianespace",
                    "SpaceX",
                    "ULA",
                    "SpaceX",
                    "ULA",
                    "ULA",
                    "SpaceX",
                    "Northrop",
                    "VKS RF",
                    "ISRO",
                    "Kosmotras",
                    "MHI",
                    "VKS RF",
                    "ULA",
                    "ULA",
                    "Arianespace",
                    "SpaceX",
                    "ULA",
                    "ISRO",
                    "ULA",
                    "Arianespace",
                    "MHI",
                    "ULA",
                    "Arianespace",
                    "ULA",
                    "Northrop",
                    "SpaceX",
                    "ISRO",
                    "VKS RF",
                    "ULA",
                    "SpaceX",
                    "VKS RF",
                    "Kosmotras",
                    "Northrop",
                    "ULA",
                    "ISRO",
                    "SpaceX",
                    "ULA",
                    "Northrop",
                    "VKS RF",
                    "Northrop",
                    "Arianespace",
                    "ULA",
                    "Kosmotras",
                    "MHI",
                    "Arianespace",
                    "ULA",
                    "VKS RF",
                    "ISRO",
                    "Northrop",
                    "ULA",
                    "Arianespace",
                    "Northrop",
                    "ULA",
                    "SpaceX",
                    "ISRO",
                    "ULA",
                    "Arianespace",
                    "ULA",
                    "MHI",
                    "VKS RF",
                    "Arianespace",
                    "ULA",
                    "Arianespace",
                    "Arianespace",
                    "SpaceX",
                    "ULA",
                    "Arianespace",
                    "ULA",
                    "ISRO",
                    "ULA",
                    "Arianespace",
                    "VKS RF",
                    "MHI",
                    "Arianespace",
                    "ULA",
                    "ULA",
                    "Northrop",
                    "SpaceX",
                    "MHI",
                    "Arianespace",
                    "ULA",
                    "ISRO",
                    "ISRO",
                    "ULA",
                    "ESA",
                    "Arianespace",
                    "MHI",
                    "ULA",
                    "ISRO",
                    "Northrop",
                    "MHI",
                    "Arianespace",
                    "MHI",
                    "Kosmotras",
                    "Arianespace",
                    "ULA",
                    "ULA",
                    "ISRO",
                    "NASA",
                    "Northrop",
                    "Arianespace",
                    "NASA",
                    "ULA",
                    "Arianespace",
                    "ISRO",
                    "ULA",
                    "ULA",
                    "ULA",
                    "Northrop",
                    "NASA",
                    "Northrop",
                    "VKS RF",
                    "MHI",
                    "ULA",
                    "Arianespace",
                    "ISRO",
                    "SpaceX",
                    "Arianespace",
                    "ULA",
                    "Northrop",
                    "Arianespace",
                    "Northrop",
                    "ULA",
                    "VKS RF",
                    "ULA",
                    "Arianespace",
                    "ISRO",
                    "Arianespace",
                    "Kosmotras",
                    "Kosmotras",
                    "SpaceX",
                    "Eurockot",
                    "ULA",
                    "Arianespace",
                    "NASA",
                    "MHI",
                    "ULA",
                    "ISRO",
                    "Kosmotras",
                    "NASA",
                    "ULA",
                    "ULA",
                    "NASA",
                    "MHI",
                    "ULA",
                    "NASA",
                    "Eurockot",
                    "Arianespace",
                    "NASA",
                    "ULA",
                    "Arianespace",
                    "ISRO",
                    "MHI",
                    "ULA",
                    "NASA",
                    "Arianespace",
                    "Kosmotras",
                    "NASA",
                    "SpaceX",
                    "VKS RF",
                    "Arianespace",
                    "ULA",
                    "ULA",
                    "Northrop",
                    "Arianespace",
                    "NASA",
                    "ISRO",
                    "ULA",
                    "Eurockot",
                    "NASA",
                    "Northrop",
                    "Arianespace",
                    "MHI",
                    "ULA",
                    "Arianespace",
                    "NASA",
                    "CASC",
                    "CASC",
                    "CASC",
                    "CASC",
                    "ISRO",
                    "Northrop",
                    "Kosmotras",
                    "SpaceX",
                    "Kosmotras",
                    "Arianespace",
                    "SpaceX",
                    "Arianespace",
                    "Arianespace",
                    "NASA",
                    "CASC",
                    "VKS RF",
                    "ISRO",
                    "CASC",
                    "Arianespace",
                    "Northrop",
                    "ULA",
                    "ULA",
                    "NASA",
                    "MHI",
                    "NASA",
                    "ISRO",
                    "ULA",
                    "Arianespace",
                    "CASC",
                    "ULA",
                    "NASA",
                    "ULA",
                    "CASC",
                    "ISRO",
                    "Arianespace",
                    "NASA",
                    "Kosmotras",
                    "ULA",
                    "Kosmotras",
                    "NASA",
                    "CASC",
                    "CASC",
                    "CASC",
                    "Arianespace",
                    "Northrop",
                    "Northrop",
                    "ISRO",
                    "Kosmotras",
                    "CASC",
                    "CASC",
                    "SpaceX",
                    "Arianespace",
                    "ULA",
                    "CASC",
                    "ISRO",
                    "Northrop",
                    "NASA",
                    "Arianespace",
                    "CASC",
                    "Boeing",
                    "CASC",
                    "Arianespace",
                    "CASC",
                    "MHI",
                    "NASA",
                    "CASC",
                    "Arianespace",
                    "Eurockot",
                    "Kosmotras",
                    "Kosmotras",
                    "ISRO",
                    "NASA",
                    "Boeing",
                    "Arianespace",
                    "Boeing",
                    "CASC",
                    "ILS",
                    "Northrop",
                    "Northrop",
                    "SpaceX",
                    "Arianespace",
                    "ILS",
                    "Arianespace",
                    "Eurockot",
                    "Northrop",
                    "CASC",
                    "VKS RF",
                    "Kosmotras",
                    "ILS",
                    "CASC",
                    "NASA",
                    "CASC",
                    "ISRO",
                    "Northrop",
                    "Northrop",
                    "ILS",
                    "Arianespace",
                    "Boeing",
                    "Arianespace",
                    "ILS",
                    "CASC",
                    "VKS RF",
                    "CASC",
                    "CASC",
                    "CASC",
                    "ISRO",
                    "CASC",
                    "CASC",
                    "CASC",
                    "Arianespace",
                    "Kosmotras",
                    "Northrop",
                    "CASC",
                    "Arianespace",
                    "CASC",
                    "CASC",
                    "CASC",
                    "Eurockot",
                    "CASC",
                    "Lockheed",
                    "ISRO",
                    "Boeing",
                    "Northrop",
                    "ILS",
                    "Eurockot",
                    "Northrop",
                    "CASC",
                    "ILS",
                    "ISRO",
                    "Northrop",
                    "Boeing",
                    "Northrop",
                    "NASA",
                    "Lockheed",
                    "Kosmotras",
                    "MHI",
                    "Arianespace",
                    "NASA",
                    "Boeing",
                    "CASC",
                    "NASA",
                    "ISRO",
                    "ILS",
                    "Lockheed",
                    "Eurockot",
                    "NASA",
                    "CASC",
                    "NASA",
                    "Eurockot",
                    "NASA",
                    "Northrop",
                    "NASA",
                    "ISRO",
                    "Northrop",
                    "MHI",
                    "NASA",
                    "NASA",
                    "NASA",
                    "ISRO",
                    "NASA",
                    "NASA",
                    "CASC",
                    "NASA",
                    "CASC",
                    "NASA",
                    "Northrop",
                    "Kosmotras",
                    "Lockheed",
                    "NASA",
                    "Northrop",
                    "Northrop",
                    "NASA",
                    "Eurockot",
                    "Northrop",
                    "NASA",
                    "Northrop",
                    "CASC",
                    "Northrop",
                    "NASA",
                    "Lockheed",
                    "Northrop",
                    "CASC",
                    "NASA",
                    "Lockheed",
                    "CASC",
                    "ISRO",
                    "NASA",
                    "Northrop",
                    "CASC",
                    "Kosmotras",
                    "Northrop",
                    "CASC",
                    "Northrop",
                    "NASA",
                    "NASA",
                    "Northrop",
                    "Northrop",
                    "Northrop",
                    "CASC",
                    "Northrop",
                    "NASA",
                    "Lockheed",
                    "CASC",
                    "NASA",
                    "Northrop",
                    "CASC",
                    "Northrop",
                    "Northrop",
                    "NASA",
                    "Northrop",
                    "CASC",
                    "NASA",
                    "Northrop",
                    "ISRO",
                    "NASA",
                    "CASC",
                    "Northrop",
                    "NASA",
                    "Northrop",
                    "NASA",
                    "NASA",
                    "CASC",
                    "Northrop",
                    "NASA",
                    "Lockheed",
                    "NASA",
                    "NASA",
                    "NASA",
                    "Northrop",
                    "CASC",
                    "NASA",
                    "Northrop",
                    "Northrop",
                    "NASA",
                    "NASA",
                    "Northrop",
                    "NASA",
                    "ISRO",
                    "Northrop",
                    "NASA",
                    "NASA",
                    "NASA",
                    "EER",
                    "NASA",
                    "NASA",
                    "NASA",
                    "NASA",
                    "Northrop",
                    "Northrop",
                    "NASA",
                    "NASA",
                    "CASC",
                    "NASA",
                    "ISRO",
                    "NASA",
                    "NASA",
                    "Northrop",
                    "NASA",
                    "CASC",
                    "Northrop",
                    "Northrop",
                    "NASA",
                    "Northrop",
                    "NASA",
                    "CASC",
                    "NASA",
                    "Martin Marietta",
                    "NASA",
                    "NASA",
                    "CASC",
                    "Martin Marietta",
                    "ISRO",
                    "NASA",
                    "NASA",
                    "NASA",
                    "Northrop",
                    "NASA",
                    "Northrop",
                    "NASA",
                    "NASA",
                    "NASA",
                    "CASC",
                    "Martin Marietta",
                    "NASA",
                    "CASC",
                    "NASA",
                    "NASA",
                    "NASA",
                    "Martin Marietta",
                    "NASA",
                    "NASA",
                    "NASA",
                    "NASA",
                    "NASA",
                    "Northrop",
                    "NASA",
                    "NASA",
                    "NASA",
                    "NASA",
                    "NASA",
                    "NASA",
                    "CASC",
                    "Martin Marietta",
                    "NASA",
                    "Northrop",
                    "Martin Marietta",
                    "NASA",
                    "NASA",
                    "Martin Marietta",
                    "NASA",
                    "NASA",
                    "Martin Marietta",
                    "NASA",
                    "NASA",
                    "NASA",
                    "NASA",
                    "RVSN USSR",
                    "NASA",
                    "Martin Marietta",
                    "CASC",
                    "CASC",
                    "CASC",
                    "RVSN USSR",
                    "CASC",
                    "NASA",
                    "NASA",
                    "NASA",
                    "NASA",
                    "CASC",
                    "NASA",
                    "NASA",
                    "NASA",
                    "NASA",
                    "NASA",
                    "NASA",
                    "NASA",
                    "NASA",
                    "NASA",
                    "CASC",
                    "NASA",
                    "NASA",
                    "NASA",
                    "NASA",
                    "NASA",
                    "CASC",
                    "NASA",
                    "NASA",
                    "NASA",
                    "CASC",
                    "NASA",
                    "NASA",
                    "NASA",
                    "NASA",
                    "NASA",
                    "NASA",
                    "NASA",
                    "NASA",
                    "NASA",
                    "NASA",
                    "NASA",
                    "NASA",
                    "US Air Force",
                    "NASA",
                    "US Air Force",
                    "US Air Force",
                    "NASA",
                    "US Air Force",
                    "NASA",
                    "US Air Force",
                    "US Air Force",
                    "US Air Force",
                    "US Air Force",
                    "US Air Force",
                    "US Air Force",
                    "NASA",
                    "US Air Force",
                    "US Air Force",
                    "US Air Force",
                    "NASA",
                    "US Air Force",
                    "US Air Force",
                    "US Air Force",
                    "US Air Force",
                    "US Air Force",
                    "US Air Force",
                    "US Air Force",
                    "US Air Force",
                    "US Air Force",
                    "US Air Force",
                    "US Air Force",
                    "US Air Force",
                    "US Air Force"
                  ],
                  "xaxis": "x",
                  "y": [
                    1,
                    1,
                    1,
                    1,
                    1,
                    1,
                    1,
                    1,
                    1,
                    1,
                    1,
                    1,
                    1,
                    1,
                    1,
                    1,
                    1,
                    1,
                    1,
                    1,
                    1,
                    1,
                    1,
                    1,
                    1,
                    1,
                    1,
                    1,
                    1,
                    1,
                    1,
                    1,
                    1,
                    1,
                    1,
                    1,
                    1,
                    1,
                    1,
                    1,
                    1,
                    1,
                    1,
                    1,
                    1,
                    1,
                    1,
                    1,
                    1,
                    1,
                    1,
                    1,
                    1,
                    1,
                    1,
                    1,
                    1,
                    1,
                    1,
                    1,
                    1,
                    1,
                    1,
                    1,
                    1,
                    1,
                    1,
                    1,
                    1,
                    1,
                    1,
                    1,
                    1,
                    1,
                    1,
                    1,
                    1,
                    1,
                    1,
                    1,
                    1,
                    1,
                    1,
                    1,
                    1,
                    1,
                    1,
                    1,
                    1,
                    1,
                    1,
                    1,
                    1,
                    1,
                    1,
                    1,
                    1,
                    1,
                    1,
                    1,
                    1,
                    1,
                    1,
                    1,
                    1,
                    1,
                    1,
                    1,
                    1,
                    1,
                    1,
                    1,
                    1,
                    1,
                    1,
                    1,
                    1,
                    1,
                    1,
                    1,
                    1,
                    1,
                    1,
                    1,
                    1,
                    1,
                    1,
                    1,
                    1,
                    1,
                    1,
                    1,
                    1,
                    1,
                    1,
                    1,
                    1,
                    1,
                    1,
                    1,
                    1,
                    1,
                    1,
                    1,
                    1,
                    1,
                    1,
                    1,
                    1,
                    1,
                    1,
                    1,
                    1,
                    1,
                    1,
                    1,
                    1,
                    1,
                    1,
                    1,
                    1,
                    1,
                    1,
                    1,
                    1,
                    1,
                    1,
                    1,
                    1,
                    1,
                    1,
                    1,
                    1,
                    1,
                    1,
                    1,
                    1,
                    1,
                    1,
                    1,
                    1,
                    1,
                    1,
                    1,
                    1,
                    1,
                    1,
                    1,
                    1,
                    1,
                    1,
                    1,
                    1,
                    1,
                    1,
                    1,
                    1,
                    1,
                    1,
                    1,
                    1,
                    1,
                    1,
                    1,
                    1,
                    1,
                    1,
                    1,
                    1,
                    1,
                    1,
                    1,
                    1,
                    1,
                    1,
                    1,
                    1,
                    1,
                    1,
                    1,
                    1,
                    1,
                    1,
                    1,
                    1,
                    1,
                    1,
                    1,
                    1,
                    1,
                    1,
                    1,
                    1,
                    1,
                    1,
                    1,
                    1,
                    1,
                    1,
                    1,
                    1,
                    1,
                    1,
                    1,
                    1,
                    1,
                    1,
                    1,
                    1,
                    1,
                    1,
                    1,
                    1,
                    1,
                    1,
                    1,
                    1,
                    1,
                    1,
                    1,
                    1,
                    1,
                    1,
                    1,
                    1,
                    1,
                    1,
                    1,
                    1,
                    1,
                    1,
                    1,
                    1,
                    1,
                    1,
                    1,
                    1,
                    1,
                    1,
                    1,
                    1,
                    1,
                    1,
                    1,
                    1,
                    1,
                    1,
                    1,
                    1,
                    1,
                    1,
                    1,
                    1,
                    1,
                    1,
                    1,
                    1,
                    1,
                    1,
                    1,
                    1,
                    1,
                    1,
                    1,
                    1,
                    1,
                    1,
                    1,
                    1,
                    1,
                    1,
                    1,
                    1,
                    1,
                    1,
                    1,
                    1,
                    1,
                    1,
                    1,
                    1,
                    1,
                    1,
                    1,
                    1,
                    1,
                    1,
                    1,
                    1,
                    1,
                    1,
                    1,
                    1,
                    1,
                    1,
                    1,
                    1,
                    1,
                    1,
                    1,
                    1,
                    1,
                    1,
                    1,
                    1,
                    1,
                    1,
                    1,
                    1,
                    1,
                    1,
                    1,
                    1,
                    1,
                    1,
                    1,
                    1,
                    1,
                    1,
                    1,
                    1,
                    1,
                    1,
                    1,
                    1,
                    1,
                    1,
                    1,
                    1,
                    1,
                    1,
                    1,
                    1,
                    1,
                    1,
                    1,
                    1,
                    1,
                    1,
                    1,
                    1,
                    1,
                    1,
                    1,
                    1,
                    1,
                    1,
                    1,
                    1,
                    1,
                    1,
                    1,
                    1,
                    1,
                    1,
                    1,
                    1,
                    1,
                    1,
                    1,
                    1,
                    1,
                    1,
                    1,
                    1,
                    1,
                    1,
                    1,
                    1,
                    1,
                    1,
                    1,
                    1,
                    1,
                    1,
                    1,
                    1,
                    1,
                    1,
                    1,
                    1,
                    1,
                    1,
                    1,
                    1,
                    1,
                    1,
                    1,
                    1,
                    1,
                    1,
                    1,
                    1,
                    1,
                    1,
                    1,
                    1,
                    1,
                    1,
                    1,
                    1,
                    1,
                    1,
                    1,
                    1,
                    1,
                    1,
                    1,
                    1,
                    1,
                    1,
                    1,
                    1,
                    1,
                    1,
                    1,
                    1,
                    1,
                    1,
                    1,
                    1,
                    1,
                    1,
                    1,
                    1,
                    1,
                    1,
                    1,
                    1,
                    1,
                    1,
                    1,
                    1,
                    1,
                    1,
                    1,
                    1,
                    1,
                    1,
                    1,
                    1,
                    1,
                    1,
                    1,
                    1,
                    1,
                    1,
                    1,
                    1,
                    1,
                    1,
                    1,
                    1,
                    1,
                    1,
                    1,
                    1,
                    1,
                    1,
                    1,
                    1,
                    1,
                    1,
                    1,
                    1,
                    1,
                    1,
                    1,
                    1,
                    1,
                    1,
                    1,
                    1,
                    1,
                    1,
                    1,
                    1,
                    1,
                    1,
                    1,
                    1,
                    1,
                    1,
                    1,
                    1,
                    1,
                    1,
                    1,
                    1,
                    1,
                    1,
                    1,
                    1,
                    1,
                    1,
                    1,
                    1,
                    1,
                    1,
                    1,
                    1,
                    1,
                    1,
                    1,
                    1,
                    1,
                    1,
                    1,
                    1,
                    1,
                    1,
                    1,
                    1,
                    1,
                    1,
                    1,
                    1,
                    1,
                    1,
                    1,
                    1,
                    1,
                    1,
                    1,
                    1,
                    1,
                    1,
                    1,
                    1,
                    1,
                    1,
                    1,
                    1,
                    1,
                    1,
                    1,
                    1,
                    1,
                    1,
                    1,
                    1,
                    1,
                    1,
                    1,
                    1,
                    1,
                    1,
                    1,
                    1,
                    1,
                    1,
                    1,
                    1,
                    1,
                    1,
                    1,
                    1,
                    1,
                    1,
                    1,
                    1,
                    1,
                    1,
                    1,
                    1,
                    1,
                    1,
                    1,
                    1,
                    1,
                    1,
                    1,
                    1,
                    1,
                    1,
                    1,
                    1,
                    1,
                    1,
                    1,
                    1,
                    1,
                    1,
                    1,
                    1,
                    1,
                    1,
                    1,
                    1,
                    1,
                    1,
                    1,
                    1,
                    1,
                    1,
                    1,
                    1,
                    1,
                    1,
                    1,
                    1,
                    1,
                    1,
                    1,
                    1,
                    1,
                    1,
                    1,
                    1,
                    1,
                    1,
                    1,
                    1,
                    1,
                    1,
                    1,
                    1,
                    1,
                    1,
                    1,
                    1,
                    1,
                    1,
                    1,
                    1,
                    1,
                    1,
                    1,
                    1,
                    1,
                    1,
                    1,
                    1,
                    1,
                    1,
                    1,
                    1,
                    1,
                    1,
                    1,
                    1,
                    1,
                    1,
                    1,
                    1,
                    1,
                    1,
                    1,
                    1,
                    1,
                    1,
                    1,
                    1,
                    1,
                    1,
                    1,
                    1,
                    1,
                    1,
                    1,
                    1,
                    1,
                    1,
                    1,
                    1,
                    1,
                    1,
                    1,
                    1,
                    1,
                    1,
                    1,
                    1,
                    1,
                    1,
                    1,
                    1,
                    1,
                    1,
                    1,
                    1,
                    1,
                    1,
                    1,
                    1,
                    1,
                    1,
                    1,
                    1,
                    1,
                    1,
                    1,
                    1,
                    1,
                    1,
                    1,
                    1,
                    1,
                    1,
                    1,
                    1,
                    1,
                    1,
                    1,
                    1,
                    1,
                    1,
                    1,
                    1,
                    1,
                    1,
                    1,
                    1,
                    1,
                    1,
                    1,
                    1,
                    1,
                    1,
                    1,
                    1,
                    1,
                    1,
                    1,
                    1,
                    1,
                    1,
                    1,
                    1,
                    1,
                    1,
                    1,
                    1,
                    1,
                    1,
                    1,
                    1,
                    1,
                    1,
                    1,
                    1,
                    1,
                    1,
                    1,
                    1,
                    1,
                    1,
                    1,
                    1,
                    1,
                    1,
                    1,
                    1,
                    1,
                    1,
                    1,
                    1,
                    1,
                    1,
                    1,
                    1,
                    1,
                    1,
                    1,
                    1,
                    1,
                    1,
                    1,
                    1,
                    1,
                    1,
                    1,
                    1,
                    1,
                    1,
                    1,
                    1,
                    1,
                    1,
                    1,
                    1,
                    1,
                    1,
                    1,
                    1,
                    1,
                    1,
                    1,
                    1,
                    1,
                    1,
                    1,
                    1,
                    1,
                    1,
                    1,
                    1,
                    1,
                    1,
                    1,
                    1,
                    1,
                    1,
                    1,
                    1,
                    1,
                    1,
                    1,
                    1,
                    1,
                    1,
                    1,
                    1,
                    1,
                    1,
                    1,
                    1,
                    1,
                    1,
                    1,
                    1,
                    1,
                    1,
                    1,
                    1,
                    1,
                    1,
                    1,
                    1,
                    1,
                    1,
                    1,
                    1,
                    1,
                    1,
                    1,
                    1,
                    1,
                    1,
                    1,
                    1,
                    1,
                    1,
                    1,
                    1,
                    1,
                    1,
                    1,
                    1,
                    1,
                    1,
                    1,
                    1,
                    1,
                    1,
                    1,
                    1,
                    1,
                    1,
                    1,
                    1,
                    1,
                    1,
                    1,
                    1,
                    1,
                    1,
                    1,
                    1,
                    1,
                    1,
                    1,
                    1,
                    1,
                    1,
                    1,
                    1,
                    1,
                    1,
                    1,
                    1,
                    1,
                    1,
                    1,
                    1,
                    1,
                    1,
                    1,
                    1,
                    1,
                    1,
                    1,
                    1,
                    1,
                    1,
                    1,
                    1,
                    1,
                    1,
                    1,
                    1,
                    1,
                    1,
                    1,
                    1,
                    1,
                    1,
                    1,
                    1,
                    1,
                    1,
                    1,
                    1,
                    1,
                    1,
                    1,
                    1,
                    1,
                    1,
                    1,
                    1,
                    1,
                    1,
                    1
                  ],
                  "yaxis": "y"
                }
              ],
              "layout": {
                "barmode": "relative",
                "legend": {
                  "tracegroupgap": 0
                },
                "margin": {
                  "t": 60
                },
                "template": {
                  "data": {
                    "bar": [
                      {
                        "error_x": {
                          "color": "#2a3f5f"
                        },
                        "error_y": {
                          "color": "#2a3f5f"
                        },
                        "marker": {
                          "line": {
                            "color": "#E5ECF6",
                            "width": 0.5
                          },
                          "pattern": {
                            "fillmode": "overlay",
                            "size": 10,
                            "solidity": 0.2
                          }
                        },
                        "type": "bar"
                      }
                    ],
                    "barpolar": [
                      {
                        "marker": {
                          "line": {
                            "color": "#E5ECF6",
                            "width": 0.5
                          },
                          "pattern": {
                            "fillmode": "overlay",
                            "size": 10,
                            "solidity": 0.2
                          }
                        },
                        "type": "barpolar"
                      }
                    ],
                    "carpet": [
                      {
                        "aaxis": {
                          "endlinecolor": "#2a3f5f",
                          "gridcolor": "white",
                          "linecolor": "white",
                          "minorgridcolor": "white",
                          "startlinecolor": "#2a3f5f"
                        },
                        "baxis": {
                          "endlinecolor": "#2a3f5f",
                          "gridcolor": "white",
                          "linecolor": "white",
                          "minorgridcolor": "white",
                          "startlinecolor": "#2a3f5f"
                        },
                        "type": "carpet"
                      }
                    ],
                    "choropleth": [
                      {
                        "colorbar": {
                          "outlinewidth": 0,
                          "ticks": ""
                        },
                        "type": "choropleth"
                      }
                    ],
                    "contour": [
                      {
                        "colorbar": {
                          "outlinewidth": 0,
                          "ticks": ""
                        },
                        "colorscale": [
                          [
                            0,
                            "#0d0887"
                          ],
                          [
                            0.1111111111111111,
                            "#46039f"
                          ],
                          [
                            0.2222222222222222,
                            "#7201a8"
                          ],
                          [
                            0.3333333333333333,
                            "#9c179e"
                          ],
                          [
                            0.4444444444444444,
                            "#bd3786"
                          ],
                          [
                            0.5555555555555556,
                            "#d8576b"
                          ],
                          [
                            0.6666666666666666,
                            "#ed7953"
                          ],
                          [
                            0.7777777777777778,
                            "#fb9f3a"
                          ],
                          [
                            0.8888888888888888,
                            "#fdca26"
                          ],
                          [
                            1,
                            "#f0f921"
                          ]
                        ],
                        "type": "contour"
                      }
                    ],
                    "contourcarpet": [
                      {
                        "colorbar": {
                          "outlinewidth": 0,
                          "ticks": ""
                        },
                        "type": "contourcarpet"
                      }
                    ],
                    "heatmap": [
                      {
                        "colorbar": {
                          "outlinewidth": 0,
                          "ticks": ""
                        },
                        "colorscale": [
                          [
                            0,
                            "#0d0887"
                          ],
                          [
                            0.1111111111111111,
                            "#46039f"
                          ],
                          [
                            0.2222222222222222,
                            "#7201a8"
                          ],
                          [
                            0.3333333333333333,
                            "#9c179e"
                          ],
                          [
                            0.4444444444444444,
                            "#bd3786"
                          ],
                          [
                            0.5555555555555556,
                            "#d8576b"
                          ],
                          [
                            0.6666666666666666,
                            "#ed7953"
                          ],
                          [
                            0.7777777777777778,
                            "#fb9f3a"
                          ],
                          [
                            0.8888888888888888,
                            "#fdca26"
                          ],
                          [
                            1,
                            "#f0f921"
                          ]
                        ],
                        "type": "heatmap"
                      }
                    ],
                    "heatmapgl": [
                      {
                        "colorbar": {
                          "outlinewidth": 0,
                          "ticks": ""
                        },
                        "colorscale": [
                          [
                            0,
                            "#0d0887"
                          ],
                          [
                            0.1111111111111111,
                            "#46039f"
                          ],
                          [
                            0.2222222222222222,
                            "#7201a8"
                          ],
                          [
                            0.3333333333333333,
                            "#9c179e"
                          ],
                          [
                            0.4444444444444444,
                            "#bd3786"
                          ],
                          [
                            0.5555555555555556,
                            "#d8576b"
                          ],
                          [
                            0.6666666666666666,
                            "#ed7953"
                          ],
                          [
                            0.7777777777777778,
                            "#fb9f3a"
                          ],
                          [
                            0.8888888888888888,
                            "#fdca26"
                          ],
                          [
                            1,
                            "#f0f921"
                          ]
                        ],
                        "type": "heatmapgl"
                      }
                    ],
                    "histogram": [
                      {
                        "marker": {
                          "pattern": {
                            "fillmode": "overlay",
                            "size": 10,
                            "solidity": 0.2
                          }
                        },
                        "type": "histogram"
                      }
                    ],
                    "histogram2d": [
                      {
                        "colorbar": {
                          "outlinewidth": 0,
                          "ticks": ""
                        },
                        "colorscale": [
                          [
                            0,
                            "#0d0887"
                          ],
                          [
                            0.1111111111111111,
                            "#46039f"
                          ],
                          [
                            0.2222222222222222,
                            "#7201a8"
                          ],
                          [
                            0.3333333333333333,
                            "#9c179e"
                          ],
                          [
                            0.4444444444444444,
                            "#bd3786"
                          ],
                          [
                            0.5555555555555556,
                            "#d8576b"
                          ],
                          [
                            0.6666666666666666,
                            "#ed7953"
                          ],
                          [
                            0.7777777777777778,
                            "#fb9f3a"
                          ],
                          [
                            0.8888888888888888,
                            "#fdca26"
                          ],
                          [
                            1,
                            "#f0f921"
                          ]
                        ],
                        "type": "histogram2d"
                      }
                    ],
                    "histogram2dcontour": [
                      {
                        "colorbar": {
                          "outlinewidth": 0,
                          "ticks": ""
                        },
                        "colorscale": [
                          [
                            0,
                            "#0d0887"
                          ],
                          [
                            0.1111111111111111,
                            "#46039f"
                          ],
                          [
                            0.2222222222222222,
                            "#7201a8"
                          ],
                          [
                            0.3333333333333333,
                            "#9c179e"
                          ],
                          [
                            0.4444444444444444,
                            "#bd3786"
                          ],
                          [
                            0.5555555555555556,
                            "#d8576b"
                          ],
                          [
                            0.6666666666666666,
                            "#ed7953"
                          ],
                          [
                            0.7777777777777778,
                            "#fb9f3a"
                          ],
                          [
                            0.8888888888888888,
                            "#fdca26"
                          ],
                          [
                            1,
                            "#f0f921"
                          ]
                        ],
                        "type": "histogram2dcontour"
                      }
                    ],
                    "mesh3d": [
                      {
                        "colorbar": {
                          "outlinewidth": 0,
                          "ticks": ""
                        },
                        "type": "mesh3d"
                      }
                    ],
                    "parcoords": [
                      {
                        "line": {
                          "colorbar": {
                            "outlinewidth": 0,
                            "ticks": ""
                          }
                        },
                        "type": "parcoords"
                      }
                    ],
                    "pie": [
                      {
                        "automargin": true,
                        "type": "pie"
                      }
                    ],
                    "scatter": [
                      {
                        "fillpattern": {
                          "fillmode": "overlay",
                          "size": 10,
                          "solidity": 0.2
                        },
                        "type": "scatter"
                      }
                    ],
                    "scatter3d": [
                      {
                        "line": {
                          "colorbar": {
                            "outlinewidth": 0,
                            "ticks": ""
                          }
                        },
                        "marker": {
                          "colorbar": {
                            "outlinewidth": 0,
                            "ticks": ""
                          }
                        },
                        "type": "scatter3d"
                      }
                    ],
                    "scattercarpet": [
                      {
                        "marker": {
                          "colorbar": {
                            "outlinewidth": 0,
                            "ticks": ""
                          }
                        },
                        "type": "scattercarpet"
                      }
                    ],
                    "scattergeo": [
                      {
                        "marker": {
                          "colorbar": {
                            "outlinewidth": 0,
                            "ticks": ""
                          }
                        },
                        "type": "scattergeo"
                      }
                    ],
                    "scattergl": [
                      {
                        "marker": {
                          "colorbar": {
                            "outlinewidth": 0,
                            "ticks": ""
                          }
                        },
                        "type": "scattergl"
                      }
                    ],
                    "scattermapbox": [
                      {
                        "marker": {
                          "colorbar": {
                            "outlinewidth": 0,
                            "ticks": ""
                          }
                        },
                        "type": "scattermapbox"
                      }
                    ],
                    "scatterpolar": [
                      {
                        "marker": {
                          "colorbar": {
                            "outlinewidth": 0,
                            "ticks": ""
                          }
                        },
                        "type": "scatterpolar"
                      }
                    ],
                    "scatterpolargl": [
                      {
                        "marker": {
                          "colorbar": {
                            "outlinewidth": 0,
                            "ticks": ""
                          }
                        },
                        "type": "scatterpolargl"
                      }
                    ],
                    "scatterternary": [
                      {
                        "marker": {
                          "colorbar": {
                            "outlinewidth": 0,
                            "ticks": ""
                          }
                        },
                        "type": "scatterternary"
                      }
                    ],
                    "surface": [
                      {
                        "colorbar": {
                          "outlinewidth": 0,
                          "ticks": ""
                        },
                        "colorscale": [
                          [
                            0,
                            "#0d0887"
                          ],
                          [
                            0.1111111111111111,
                            "#46039f"
                          ],
                          [
                            0.2222222222222222,
                            "#7201a8"
                          ],
                          [
                            0.3333333333333333,
                            "#9c179e"
                          ],
                          [
                            0.4444444444444444,
                            "#bd3786"
                          ],
                          [
                            0.5555555555555556,
                            "#d8576b"
                          ],
                          [
                            0.6666666666666666,
                            "#ed7953"
                          ],
                          [
                            0.7777777777777778,
                            "#fb9f3a"
                          ],
                          [
                            0.8888888888888888,
                            "#fdca26"
                          ],
                          [
                            1,
                            "#f0f921"
                          ]
                        ],
                        "type": "surface"
                      }
                    ],
                    "table": [
                      {
                        "cells": {
                          "fill": {
                            "color": "#EBF0F8"
                          },
                          "line": {
                            "color": "white"
                          }
                        },
                        "header": {
                          "fill": {
                            "color": "#C8D4E3"
                          },
                          "line": {
                            "color": "white"
                          }
                        },
                        "type": "table"
                      }
                    ]
                  },
                  "layout": {
                    "annotationdefaults": {
                      "arrowcolor": "#2a3f5f",
                      "arrowhead": 0,
                      "arrowwidth": 1
                    },
                    "autotypenumbers": "strict",
                    "coloraxis": {
                      "colorbar": {
                        "outlinewidth": 0,
                        "ticks": ""
                      }
                    },
                    "colorscale": {
                      "diverging": [
                        [
                          0,
                          "#8e0152"
                        ],
                        [
                          0.1,
                          "#c51b7d"
                        ],
                        [
                          0.2,
                          "#de77ae"
                        ],
                        [
                          0.3,
                          "#f1b6da"
                        ],
                        [
                          0.4,
                          "#fde0ef"
                        ],
                        [
                          0.5,
                          "#f7f7f7"
                        ],
                        [
                          0.6,
                          "#e6f5d0"
                        ],
                        [
                          0.7,
                          "#b8e186"
                        ],
                        [
                          0.8,
                          "#7fbc41"
                        ],
                        [
                          0.9,
                          "#4d9221"
                        ],
                        [
                          1,
                          "#276419"
                        ]
                      ],
                      "sequential": [
                        [
                          0,
                          "#0d0887"
                        ],
                        [
                          0.1111111111111111,
                          "#46039f"
                        ],
                        [
                          0.2222222222222222,
                          "#7201a8"
                        ],
                        [
                          0.3333333333333333,
                          "#9c179e"
                        ],
                        [
                          0.4444444444444444,
                          "#bd3786"
                        ],
                        [
                          0.5555555555555556,
                          "#d8576b"
                        ],
                        [
                          0.6666666666666666,
                          "#ed7953"
                        ],
                        [
                          0.7777777777777778,
                          "#fb9f3a"
                        ],
                        [
                          0.8888888888888888,
                          "#fdca26"
                        ],
                        [
                          1,
                          "#f0f921"
                        ]
                      ],
                      "sequentialminus": [
                        [
                          0,
                          "#0d0887"
                        ],
                        [
                          0.1111111111111111,
                          "#46039f"
                        ],
                        [
                          0.2222222222222222,
                          "#7201a8"
                        ],
                        [
                          0.3333333333333333,
                          "#9c179e"
                        ],
                        [
                          0.4444444444444444,
                          "#bd3786"
                        ],
                        [
                          0.5555555555555556,
                          "#d8576b"
                        ],
                        [
                          0.6666666666666666,
                          "#ed7953"
                        ],
                        [
                          0.7777777777777778,
                          "#fb9f3a"
                        ],
                        [
                          0.8888888888888888,
                          "#fdca26"
                        ],
                        [
                          1,
                          "#f0f921"
                        ]
                      ]
                    },
                    "colorway": [
                      "#636efa",
                      "#EF553B",
                      "#00cc96",
                      "#ab63fa",
                      "#FFA15A",
                      "#19d3f3",
                      "#FF6692",
                      "#B6E880",
                      "#FF97FF",
                      "#FECB52"
                    ],
                    "font": {
                      "color": "#2a3f5f"
                    },
                    "geo": {
                      "bgcolor": "white",
                      "lakecolor": "white",
                      "landcolor": "#E5ECF6",
                      "showlakes": true,
                      "showland": true,
                      "subunitcolor": "white"
                    },
                    "hoverlabel": {
                      "align": "left"
                    },
                    "hovermode": "closest",
                    "mapbox": {
                      "style": "light"
                    },
                    "paper_bgcolor": "white",
                    "plot_bgcolor": "#E5ECF6",
                    "polar": {
                      "angularaxis": {
                        "gridcolor": "white",
                        "linecolor": "white",
                        "ticks": ""
                      },
                      "bgcolor": "#E5ECF6",
                      "radialaxis": {
                        "gridcolor": "white",
                        "linecolor": "white",
                        "ticks": ""
                      }
                    },
                    "scene": {
                      "xaxis": {
                        "backgroundcolor": "#E5ECF6",
                        "gridcolor": "white",
                        "gridwidth": 2,
                        "linecolor": "white",
                        "showbackground": true,
                        "ticks": "",
                        "zerolinecolor": "white"
                      },
                      "yaxis": {
                        "backgroundcolor": "#E5ECF6",
                        "gridcolor": "white",
                        "gridwidth": 2,
                        "linecolor": "white",
                        "showbackground": true,
                        "ticks": "",
                        "zerolinecolor": "white"
                      },
                      "zaxis": {
                        "backgroundcolor": "#E5ECF6",
                        "gridcolor": "white",
                        "gridwidth": 2,
                        "linecolor": "white",
                        "showbackground": true,
                        "ticks": "",
                        "zerolinecolor": "white"
                      }
                    },
                    "shapedefaults": {
                      "line": {
                        "color": "#2a3f5f"
                      }
                    },
                    "ternary": {
                      "aaxis": {
                        "gridcolor": "white",
                        "linecolor": "white",
                        "ticks": ""
                      },
                      "baxis": {
                        "gridcolor": "white",
                        "linecolor": "white",
                        "ticks": ""
                      },
                      "bgcolor": "#E5ECF6",
                      "caxis": {
                        "gridcolor": "white",
                        "linecolor": "white",
                        "ticks": ""
                      }
                    },
                    "title": {
                      "x": 0.05
                    },
                    "xaxis": {
                      "automargin": true,
                      "gridcolor": "white",
                      "linecolor": "white",
                      "ticks": "",
                      "title": {
                        "standoff": 15
                      },
                      "zerolinecolor": "white",
                      "zerolinewidth": 2
                    },
                    "yaxis": {
                      "automargin": true,
                      "gridcolor": "white",
                      "linecolor": "white",
                      "ticks": "",
                      "title": {
                        "standoff": 15
                      },
                      "zerolinecolor": "white",
                      "zerolinewidth": 2
                    }
                  }
                },
                "xaxis": {
                  "anchor": "y",
                  "domain": [
                    0,
                    1
                  ],
                  "title": {
                    "text": "x"
                  }
                },
                "yaxis": {
                  "anchor": "x",
                  "domain": [
                    0,
                    1
                  ],
                  "title": {
                    "text": "count"
                  }
                }
              }
            }
          },
          "metadata": {},
          "output_type": "display_data"
        }
      ],
      "source": []
    },
    {
      "cell_type": "code",
      "execution_count": null,
      "metadata": {
        "id": "qgneHUbWkw5v"
      },
      "outputs": [],
      "source": []
    },
    {
      "cell_type": "markdown",
      "metadata": {
        "id": "7Gwteht2kR_h"
      },
      "source": [
        "# Number of Active versus Retired Rockets\n",
        "\n",
        "How many rockets are active compared to those that are decomissioned? "
      ]
    },
    {
      "cell_type": "code",
      "execution_count": null,
      "metadata": {
        "id": "SxmOWS9cmTq6"
      },
      "outputs": [],
      "source": []
    },
    {
      "cell_type": "code",
      "execution_count": null,
      "metadata": {
        "id": "ydj0-OZ6mToH"
      },
      "outputs": [],
      "source": []
    },
    {
      "cell_type": "markdown",
      "metadata": {
        "id": "y9WtP5xWkYkp"
      },
      "source": [
        "# Distribution of Mission Status\n",
        "\n",
        "How many missions were successful?\n",
        "How many missions failed?"
      ]
    },
    {
      "cell_type": "code",
      "execution_count": null,
      "metadata": {
        "id": "83kY1alqmUhb"
      },
      "outputs": [],
      "source": []
    },
    {
      "cell_type": "code",
      "execution_count": null,
      "metadata": {
        "id": "bdmXcaopmUeZ"
      },
      "outputs": [],
      "source": []
    },
    {
      "cell_type": "markdown",
      "metadata": {
        "id": "jgTCihuoa-qH",
        "papermill": {
          "duration": 0.03854,
          "end_time": "2020-10-20T21:34:05.968626",
          "exception": false,
          "start_time": "2020-10-20T21:34:05.930086",
          "status": "completed"
        },
        "tags": []
      },
      "source": [
        "# How Expensive are the Launches? \n",
        "\n",
        "Create a histogram and visualise the distribution. The price column is given in USD millions (careful of missing values). "
      ]
    },
    {
      "cell_type": "code",
      "execution_count": null,
      "metadata": {
        "id": "PLOMhzZFnSCO"
      },
      "outputs": [],
      "source": []
    },
    {
      "cell_type": "code",
      "execution_count": null,
      "metadata": {
        "id": "ru0IcY4nnSFU"
      },
      "outputs": [],
      "source": []
    },
    {
      "cell_type": "markdown",
      "metadata": {
        "id": "QiNtigQDne3E"
      },
      "source": [
        "# Use a Choropleth Map to Show the Number of Launches by Country\n",
        "\n",
        "* Create a choropleth map using [the plotly documentation](https://plotly.com/python/choropleth-maps/)\n",
        "* Experiment with [plotly's available colours](https://plotly.com/python/builtin-colorscales/). I quite like the sequential colour `matter` on this map. \n",
        "* You'll need to extract a `country` feature as well as change the country names that no longer exist.\n",
        "\n",
        "Wrangle the Country Names\n",
        "\n",
        "You'll need to use a 3 letter country code for each country. You might have to change some country names.\n",
        "\n",
        "* Russia is the Russian Federation\n",
        "* New Mexico should be USA\n",
        "* Yellow Sea refers to China\n",
        "* Shahrud Missile Test Site should be Iran\n",
        "* Pacific Missile Range Facility should be USA\n",
        "* Barents Sea should be Russian Federation\n",
        "* Gran Canaria should be USA\n",
        "\n",
        "\n",
        "You can use the iso3166 package to convert the country names to Alpha3 format."
      ]
    },
    {
      "cell_type": "code",
      "execution_count": null,
      "metadata": {
        "id": "Y46-4GHrozhF"
      },
      "outputs": [],
      "source": []
    },
    {
      "cell_type": "code",
      "execution_count": null,
      "metadata": {
        "id": "ESGRWiX6ozZG"
      },
      "outputs": [],
      "source": []
    },
    {
      "cell_type": "markdown",
      "metadata": {
        "id": "F3pwYSUlo_AK"
      },
      "source": [
        "# Use a Choropleth Map to Show the Number of Failures by Country\n"
      ]
    },
    {
      "cell_type": "code",
      "execution_count": null,
      "metadata": {
        "id": "8BH4ICtro9I0"
      },
      "outputs": [],
      "source": []
    },
    {
      "cell_type": "code",
      "execution_count": null,
      "metadata": {
        "id": "sfw-q7Obo9GM"
      },
      "outputs": [],
      "source": []
    },
    {
      "cell_type": "markdown",
      "metadata": {
        "id": "9LqcqSrKa-qN",
        "papermill": {
          "duration": 0.039343,
          "end_time": "2020-10-20T21:34:06.591694",
          "exception": false,
          "start_time": "2020-10-20T21:34:06.552351",
          "status": "completed"
        },
        "tags": []
      },
      "source": [
        "# Create a Plotly Sunburst Chart of the countries, organisations, and mission status. "
      ]
    },
    {
      "cell_type": "code",
      "execution_count": null,
      "metadata": {
        "id": "MwUfpoByo3_J"
      },
      "outputs": [],
      "source": []
    },
    {
      "cell_type": "code",
      "execution_count": null,
      "metadata": {
        "id": "-ZwZkx1ro4X9"
      },
      "outputs": [],
      "source": []
    },
    {
      "cell_type": "code",
      "execution_count": null,
      "metadata": {
        "id": "VfTGp2hLo4Ok"
      },
      "outputs": [],
      "source": []
    },
    {
      "cell_type": "markdown",
      "metadata": {
        "id": "70pG1BCZa-qY",
        "papermill": {
          "duration": 0.062712,
          "end_time": "2020-10-20T21:34:07.951200",
          "exception": false,
          "start_time": "2020-10-20T21:34:07.888488",
          "status": "completed"
        },
        "tags": []
      },
      "source": [
        "# Analyse the Total Amount of Money Spent by Organisation on Space Missions"
      ]
    },
    {
      "cell_type": "code",
      "execution_count": null,
      "metadata": {
        "id": "IaJYxwEVpKHy"
      },
      "outputs": [],
      "source": []
    },
    {
      "cell_type": "code",
      "execution_count": null,
      "metadata": {
        "id": "orIFf-appPDL"
      },
      "outputs": [],
      "source": []
    },
    {
      "cell_type": "code",
      "execution_count": null,
      "metadata": {
        "id": "86OMPfpEpO7R"
      },
      "outputs": [],
      "source": []
    },
    {
      "cell_type": "markdown",
      "metadata": {
        "id": "DpsWkPxzpPXs"
      },
      "source": [
        "# Analyse the Amount of Money Spent by Organisation per Launch"
      ]
    },
    {
      "cell_type": "code",
      "execution_count": null,
      "metadata": {
        "id": "opYJ6GiRpTk5"
      },
      "outputs": [],
      "source": []
    },
    {
      "cell_type": "code",
      "execution_count": null,
      "metadata": {
        "id": "VEkHzAk2pTvj"
      },
      "outputs": [],
      "source": []
    },
    {
      "cell_type": "code",
      "execution_count": null,
      "metadata": {
        "id": "R5rFf501pKXD"
      },
      "outputs": [],
      "source": []
    },
    {
      "cell_type": "markdown",
      "metadata": {
        "id": "yRa1BbPoa-qf",
        "papermill": {
          "duration": 0.042662,
          "end_time": "2020-10-20T21:34:09.943196",
          "exception": false,
          "start_time": "2020-10-20T21:34:09.900534",
          "status": "completed"
        },
        "tags": []
      },
      "source": [
        "# Chart the Number of Launches per Year"
      ]
    },
    {
      "cell_type": "code",
      "execution_count": null,
      "metadata": {
        "id": "_9FohVh3pcAJ"
      },
      "outputs": [],
      "source": []
    },
    {
      "cell_type": "code",
      "execution_count": null,
      "metadata": {
        "id": "b2pggcZBpb4x"
      },
      "outputs": [],
      "source": []
    },
    {
      "cell_type": "markdown",
      "metadata": {
        "id": "NomJVLi3tIaM"
      },
      "source": [
        "# Chart the Number of Launches Month-on-Month until the Present\n",
        "\n",
        "Which month has seen the highest number of launches in all time? Superimpose a rolling average on the month on month time series chart. "
      ]
    },
    {
      "cell_type": "code",
      "execution_count": null,
      "metadata": {
        "id": "H1N2aBs5tH9z"
      },
      "outputs": [],
      "source": []
    },
    {
      "cell_type": "code",
      "execution_count": null,
      "metadata": {
        "id": "pfw0aX1lpdRv"
      },
      "outputs": [],
      "source": []
    },
    {
      "cell_type": "markdown",
      "metadata": {
        "id": "t-avMIZoa-qh",
        "papermill": {
          "duration": 0.044409,
          "end_time": "2020-10-20T21:34:10.162592",
          "exception": false,
          "start_time": "2020-10-20T21:34:10.118183",
          "status": "completed"
        },
        "tags": []
      },
      "source": [
        "# Launches per Month: Which months are most popular and least popular for launches?\n",
        "\n",
        "Some months have better weather than others. Which time of year seems to be best for space missions?"
      ]
    },
    {
      "cell_type": "code",
      "execution_count": null,
      "metadata": {
        "id": "zmtp5uBHppFG"
      },
      "outputs": [],
      "source": []
    },
    {
      "cell_type": "code",
      "execution_count": null,
      "metadata": {
        "id": "fnk2m_cpppJo"
      },
      "outputs": [],
      "source": []
    },
    {
      "cell_type": "markdown",
      "metadata": {
        "id": "dPQ_N_sfa-qo",
        "papermill": {
          "duration": 0.067915,
          "end_time": "2020-10-20T21:34:11.122539",
          "exception": false,
          "start_time": "2020-10-20T21:34:11.054624",
          "status": "completed"
        },
        "tags": []
      },
      "source": [
        "# How has the Launch Price varied Over Time? \n",
        "\n",
        "Create a line chart that shows the average price of rocket launches over time. "
      ]
    },
    {
      "cell_type": "code",
      "execution_count": null,
      "metadata": {
        "id": "hFc-2M5-qCrv"
      },
      "outputs": [],
      "source": []
    },
    {
      "cell_type": "code",
      "execution_count": null,
      "metadata": {
        "id": "ggYFiAsEqC6J"
      },
      "outputs": [],
      "source": []
    },
    {
      "cell_type": "markdown",
      "metadata": {
        "id": "8OYrWyiOa-qs",
        "papermill": {
          "duration": 0.047152,
          "end_time": "2020-10-20T21:34:11.681371",
          "exception": false,
          "start_time": "2020-10-20T21:34:11.634219",
          "status": "completed"
        },
        "tags": []
      },
      "source": [
        "# Chart the Number of Launches over Time by the Top 10 Organisations. \n",
        "\n",
        "How has the dominance of launches changed over time between the different players? "
      ]
    },
    {
      "cell_type": "code",
      "execution_count": null,
      "metadata": {
        "id": "RcsrPPpAqVFj"
      },
      "outputs": [],
      "source": []
    },
    {
      "cell_type": "code",
      "execution_count": null,
      "metadata": {
        "id": "1IgfafiyqWEe"
      },
      "outputs": [],
      "source": []
    },
    {
      "cell_type": "code",
      "execution_count": null,
      "metadata": {
        "id": "akCDKT8CqVjG"
      },
      "outputs": [],
      "source": []
    },
    {
      "cell_type": "markdown",
      "metadata": {
        "id": "6Cm8_ch6a-q7",
        "papermill": {
          "duration": 0.052399,
          "end_time": "2020-10-20T21:34:13.756781",
          "exception": false,
          "start_time": "2020-10-20T21:34:13.704382",
          "status": "completed"
        },
        "tags": []
      },
      "source": [
        "# Cold War Space Race: USA vs USSR\n",
        "\n",
        "The cold war lasted from the start of the dataset up until 1991. "
      ]
    },
    {
      "cell_type": "code",
      "execution_count": null,
      "metadata": {
        "id": "AcE_U8csrICL"
      },
      "outputs": [],
      "source": []
    },
    {
      "cell_type": "code",
      "execution_count": null,
      "metadata": {
        "id": "cOe_t4OmrHr9"
      },
      "outputs": [],
      "source": []
    },
    {
      "cell_type": "markdown",
      "metadata": {
        "id": "Os-3A5vLa-q9",
        "papermill": {
          "duration": 0.054318,
          "end_time": "2020-10-20T21:34:14.089604",
          "exception": false,
          "start_time": "2020-10-20T21:34:14.035286",
          "status": "completed"
        },
        "tags": []
      },
      "source": [
        "## Create a Plotly Pie Chart comparing the total number of launches of the USSR and the USA\n",
        "\n",
        "Hint: Remember to include former Soviet Republics like Kazakhstan when analysing the total number of launches. "
      ]
    },
    {
      "cell_type": "code",
      "execution_count": null,
      "metadata": {
        "id": "1irc6_W9rD59"
      },
      "outputs": [],
      "source": []
    },
    {
      "cell_type": "code",
      "execution_count": null,
      "metadata": {
        "id": "OhhuLQycrEE-"
      },
      "outputs": [],
      "source": []
    },
    {
      "cell_type": "markdown",
      "metadata": {
        "id": "0C29Zz4xa-rA",
        "papermill": {
          "duration": 0.052921,
          "end_time": "2020-10-20T21:34:14.340085",
          "exception": false,
          "start_time": "2020-10-20T21:34:14.287164",
          "status": "completed"
        },
        "tags": []
      },
      "source": [
        "## Create a Chart that Shows the Total Number of Launches Year-On-Year by the Two Superpowers"
      ]
    },
    {
      "cell_type": "code",
      "execution_count": null,
      "metadata": {
        "id": "9ISKvOiCrS73"
      },
      "outputs": [],
      "source": []
    },
    {
      "cell_type": "code",
      "execution_count": null,
      "metadata": {
        "id": "oCc7VTzGrTK-"
      },
      "outputs": [],
      "source": []
    },
    {
      "cell_type": "markdown",
      "metadata": {
        "id": "eWv4iZmra-rE",
        "papermill": {
          "duration": 0.079311,
          "end_time": "2020-10-20T21:34:14.933058",
          "exception": false,
          "start_time": "2020-10-20T21:34:14.853747",
          "status": "completed"
        },
        "tags": []
      },
      "source": [
        "## Chart the Total Number of Mission Failures Year on Year."
      ]
    },
    {
      "cell_type": "code",
      "execution_count": null,
      "metadata": {
        "id": "I-Zss5-Mre-4"
      },
      "outputs": [],
      "source": []
    },
    {
      "cell_type": "code",
      "execution_count": null,
      "metadata": {
        "id": "7Ps9Iq_crfYl"
      },
      "outputs": [],
      "source": []
    },
    {
      "cell_type": "markdown",
      "metadata": {
        "id": "XNp-NkrJriEF"
      },
      "source": [
        "## Chart the Percentage of Failures over Time\n",
        "\n",
        "Did failures go up or down over time? Did the countries get better at minimising risk and improving their chances of success over time? "
      ]
    },
    {
      "cell_type": "code",
      "execution_count": null,
      "metadata": {
        "id": "Kj3-zsI0rhOS"
      },
      "outputs": [],
      "source": []
    },
    {
      "cell_type": "code",
      "execution_count": null,
      "metadata": {
        "id": "nxnnzx89rwvH"
      },
      "outputs": [],
      "source": []
    },
    {
      "cell_type": "code",
      "execution_count": null,
      "metadata": {
        "id": "_TPWaaJ5r1Fz"
      },
      "outputs": [],
      "source": []
    },
    {
      "cell_type": "markdown",
      "metadata": {
        "id": "S5aOC7bGr2OX"
      },
      "source": [
        "# For Every Year Show which Country was in the Lead in terms of Total Number of Launches up to and including including 2020)\n",
        "\n",
        "Do the results change if we only look at the number of successful launches? "
      ]
    },
    {
      "cell_type": "code",
      "execution_count": null,
      "metadata": {
        "id": "_h0grIXKsOz_"
      },
      "outputs": [],
      "source": []
    },
    {
      "cell_type": "code",
      "execution_count": null,
      "metadata": {
        "id": "zgVysedmsOp4"
      },
      "outputs": [],
      "source": []
    },
    {
      "cell_type": "markdown",
      "metadata": {
        "id": "jQcqBfJ8serG"
      },
      "source": [
        "# Create a Year-on-Year Chart Showing the Organisation Doing the Most Number of Launches\n",
        "\n",
        "Which organisation was dominant in the 1970s and 1980s? Which organisation was dominant in 2018, 2019 and 2020? "
      ]
    },
    {
      "cell_type": "code",
      "execution_count": null,
      "metadata": {
        "id": "jc9ImQEWsztG"
      },
      "outputs": [],
      "source": []
    },
    {
      "cell_type": "code",
      "execution_count": null,
      "metadata": {
        "id": "r5frxzwlsz5W"
      },
      "outputs": [],
      "source": []
    },
    {
      "cell_type": "code",
      "execution_count": null,
      "metadata": {
        "id": "8vHKpuc5a-rc",
        "papermill": {
          "duration": 0.092403,
          "end_time": "2020-10-20T21:34:26.709168",
          "exception": false,
          "start_time": "2020-10-20T21:34:26.616765",
          "status": "completed"
        },
        "tags": []
      },
      "outputs": [],
      "source": []
    }
  ],
  "metadata": {
    "colab": {
      "provenance": [],
      "include_colab_link": true
    },
    "kernelspec": {
      "display_name": "Python 3.8.8 ('base')",
      "language": "python",
      "name": "python3"
    },
    "language_info": {
      "codemirror_mode": {
        "name": "ipython",
        "version": 3
      },
      "file_extension": ".py",
      "mimetype": "text/x-python",
      "name": "python",
      "nbconvert_exporter": "python",
      "pygments_lexer": "ipython3",
      "version": "3.8.8"
    },
    "papermill": {
      "duration": 28.468597,
      "end_time": "2020-10-20T21:34:26.910951",
      "environment_variables": {},
      "exception": null,
      "input_path": "__notebook__.ipynb",
      "output_path": "__notebook__.ipynb",
      "parameters": {},
      "start_time": "2020-10-20T21:33:58.442354",
      "version": "2.1.0"
    },
    "vscode": {
      "interpreter": {
        "hash": "d2510ea12597d5a291e4fb9c05662836ed38b46602a0c38d4f490d260457273e"
      }
    }
  },
  "nbformat": 4,
  "nbformat_minor": 0
}